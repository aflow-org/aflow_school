{
 "cells": [
  {
   "cell_type": "markdown",
   "metadata": {
    "id": "P_-YqfDoCMvm",
    "pycharm": {
     "name": "#%% md\n"
    }
   },
   "source": [
    "## AFLUX: AFLOW Search-API\n",
    "\n",
    "**Aim:** Programmatically expose the same functionality as our web search interface at https://aflow.org/search\n",
    "\n",
    "- AFLUX enables search through the query string of the URL ```?<operator>``` by exposing several logical operators.\n",
    "- Operators can be inter-property and/or intra-property.\n",
    "\n",
    "### List of logical operators and AFLUX syntax\n",
    "|Logical operator |      AFLUX syntax          |        Operator             |\n",
    "| --------------  |:--------------------------:| ---------------------------:|\n",
    "| ```<block>```   |    ```(``` and ```)```     |  Intra- and inter-property  |\n",
    "| ```<AND>```     |          ```,```           |  Intra- and inter-property  |\n",
    "| ```<OR>```      |          ```:```           |  Intra- and inter-property  |\n",
    "| ```<NOT>```     |          ```!```           |       Intra-property        |\n",
    "| ```<loose>```   |          ```*```           |       Intra-property        |\n",
    "| ```<string>```  |          ```'```           |       Inter-property        |\n",
    "| ```<mute>```    |          ```$```           |       Intra-property        |\n",
    "\n",
    "- In AFLUX operators are used to create a query. In our terminology a query is comprised of a **matchbook** and **directives**.\n",
    "\n",
    "    ![](../images/AFLUX_URL.png)\n",
    "\n",
    "### Matchbook:\n",
    "- Materials keywords with arguments: ```<server>?species((Na:K),Cl),nspecies(2),Egap(1*,*5),energy_cell```.\n",
    "\n",
    "### Directives:\n",
    "- Used for formatting, moving between layers (catalog) and pagination.\n",
    "- **format** takes args ```\"json\"``` and ```\"html\"```.\n",
    "- **catalog** takes args ```\"icsd\"```, ```\"lib1\"```, ```\"lib2\"```, ...\n",
    "- **paging** controls page number, number of entries per page, and sorting. By default entries are sorted in ascending order of first materials keyword. Order can be reversed by using a negative page number.\n"
   ]
  },
  {
   "cell_type": "markdown",
   "metadata": {},
   "source": [
    "_little helper function (just for Hydrogen and JupyterLab)_"
   ]
  },
  {
   "cell_type": "code",
   "execution_count": null,
   "metadata": {
    "tags": []
   },
   "outputs": [],
   "source": [
    "from IPython.display import JSON\n",
    "import json\n",
    "from urllib.request import urlopen\n",
    "def show(url):\n",
    "    return JSON(json.loads(urlopen(url).read().decode(\"utf-8\")))"
   ]
  },
  {
   "cell_type": "markdown",
   "metadata": {
    "id": "TFkBL7WqCMvn",
    "pycharm": {
     "name": "#%% md\n"
    }
   },
   "source": [
    "## AFLUX: URLs"
   ]
  },
  {
   "cell_type": "markdown",
   "metadata": {
    "id": "lTmLKIaPsPrZ",
    "pycharm": {
     "name": "#%% md\n"
    }
   },
   "source": [
    "Help directives"
   ]
  },
  {
   "cell_type": "code",
   "execution_count": null,
   "metadata": {
    "id": "5GfbJxUcCMvn",
    "pycharm": {
     "name": "#%%\n"
    },
    "tags": []
   },
   "outputs": [],
   "source": [
    "# Help text.\n",
    "!curl 'https://aflow.org/API/aflux/?'"
   ]
  },
  {
   "cell_type": "code",
   "execution_count": null,
   "metadata": {
    "id": "ccU7f2hRCMvt",
    "pycharm": {
     "name": "#%%\n"
    },
    "tags": []
   },
   "outputs": [],
   "source": [
    "# List of matchbook keywords.\n",
    "show('https://aflow.org/API/aflux/?schema,format(json)')"
   ]
  },
  {
   "cell_type": "markdown",
   "metadata": {
    "id": "kAnf9ezUsYcR",
    "pycharm": {
     "name": "#%% md\n"
    }
   },
   "source": [
    "Operators \\<block\\>, \\<AND\\>, \\<OR\\>, \\<NOT\\>"
   ]
  },
  {
   "cell_type": "code",
   "execution_count": null,
   "metadata": {
    "id": "5SdvQRhcr2v_",
    "pycharm": {
     "name": "#%%\n"
    },
    "tags": []
   },
   "outputs": [],
   "source": [
    "# Search compounds containing Cr and 3 total species.\n",
    "show('https://aflow.org/API/aflux/?species(Cr),catalog(ICSD),nspecies(3),paging(1)')"
   ]
  },
  {
   "cell_type": "code",
   "execution_count": null,
   "metadata": {
    "id": "tPKN3cgKsFew",
    "pycharm": {
     "name": "#%%\n"
    },
    "tags": []
   },
   "outputs": [],
   "source": [
    "# Exclude oxygen from the results.\n",
    "show('https://aflow.org/API/aflux/?species(Cr,!O),catalog(ICSD),nspecies(3),paging(1)')"
   ]
  },
  {
   "cell_type": "code",
   "execution_count": null,
   "metadata": {
    "id": "ZFYAqsdPsMi3",
    "pycharm": {
     "name": "#%%\n"
    },
    "tags": []
   },
   "outputs": [],
   "source": [
    "# List compounds from ICSD catalog containing Cr or Mn and 3 species.\n",
    "show('https://aflow.org/API/aflux/?species(Cr:Mn),catalog(ICSD),nspecies(3),paging(1)')"
   ]
  },
  {
   "cell_type": "code",
   "execution_count": null,
   "metadata": {
    "id": "zA6_ad6MszfW",
    "pycharm": {
     "name": "#%%\n"
    }
   },
   "outputs": [],
   "source": [
    "# Retrieve compounds with 3 species from ICSD catalog containing Cr and Se, or Cr and Te and 3 species.\n",
    "show('https://aflow.org/API/aflux/?species(Cr,(Se:Te)),catalog(ICSD),nspecies(3),paging(1)')"
   ]
  },
  {
   "cell_type": "markdown",
   "metadata": {
    "id": "T6m0rAK8tOaW",
    "pycharm": {
     "name": "#%% md\n"
    }
   },
   "source": [
    "Operators: \\<loose\\>"
   ]
  },
  {
   "cell_type": "code",
   "execution_count": null,
   "metadata": {
    "id": "aOhD4RtDtT0g",
    "pycharm": {
     "name": "#%%\n"
    }
   },
   "outputs": [],
   "source": [
    "# Retrieve the band gaps for all quaternary compounds\n",
    "show('https://aflow.org/API/aflux/?Egap,nspecies(4),paging(1)')"
   ]
  },
  {
   "cell_type": "code",
   "execution_count": null,
   "metadata": {
    "id": "WdCeXGLptg0F",
    "pycharm": {
     "name": "#%%\n"
    },
    "tags": []
   },
   "outputs": [],
   "source": [
    "# Only show non-null results\n",
    "show('https://aflow.org/API/aflux/?Egap(*),nspecies(4),paging(1)')"
   ]
  },
  {
   "cell_type": "code",
   "execution_count": null,
   "metadata": {
    "id": "JdRORymttmVr",
    "pycharm": {
     "name": "#%%\n"
    },
    "tags": []
   },
   "outputs": [],
   "source": [
    "# Only show results where Egap is greater than or equal to 1eV\n",
    "show('https://aflow.org/API/aflux/?Egap(1*),nspecies(4),paging(1)')"
   ]
  },
  {
   "cell_type": "code",
   "execution_count": null,
   "metadata": {
    "id": "yo34ZpobtyRn",
    "pycharm": {
     "name": "#%%\n"
    }
   },
   "outputs": [],
   "source": [
    "# Only show results where Egap is greater than or equal to 1eV and less than or equal to 3eV\n",
    "show('https://aflow.org/API/aflux/?Egap(1*,*3),nspecies(4),paging(1)')"
   ]
  },
  {
   "cell_type": "markdown",
   "metadata": {
    "pycharm": {
     "name": "#%% md\n"
    }
   },
   "source": [
    "Directives: paging"
   ]
  },
  {
   "cell_type": "code",
   "execution_count": null,
   "metadata": {
    "id": "Wh3tsnQ-2eAE",
    "pycharm": {
     "name": "#%%\n"
    }
   },
   "outputs": [],
   "source": [
    "# Show nth (e.g. 5th) results page (default: 64 entries/page):\n",
    "show('https://aflow.org/API/aflux/?Egap(1*,*3),nspecies(4),paging(5)')"
   ]
  },
  {
   "cell_type": "code",
   "execution_count": null,
   "metadata": {
    "id": "Rig1Z9z83Ri6",
    "pycharm": {
     "name": "#%%\n"
    }
   },
   "outputs": [],
   "source": [
    "# Change page size to m (e.g. 100) entries per page:\n",
    "show('https://aflow.org/API/aflux/?Egap(1*,*3),nspecies(4),paging(5,100)')"
   ]
  },
  {
   "cell_type": "markdown",
   "metadata": {
    "id": "wENragE94Lhl",
    "pycharm": {
     "name": "#%% md\n"
    }
   },
   "source": [
    "Sorting"
   ]
  },
  {
   "cell_type": "code",
   "execution_count": null,
   "metadata": {
    "id": "Z1e5dojp4PDG",
    "pycharm": {
     "name": "#%%\n"
    }
   },
   "outputs": [],
   "source": [
    "# Sort in ascending order:\n",
    "show('https://aflow.org/API/aflux/?Egap(1*,*3),nspecies(4),$paging(1)')"
   ]
  },
  {
   "cell_type": "code",
   "execution_count": null,
   "metadata": {
    "id": "iwha1Bop4Yg2",
    "pycharm": {
     "name": "#%%\n"
    }
   },
   "outputs": [],
   "source": [
    "# Sort in descending order (also works for n=0):\n",
    "show('https://aflow.org/API/aflux/?Egap(1*,*3),nspecies(4),$paging(-1)')"
   ]
  },
  {
   "cell_type": "markdown",
   "metadata": {
    "id": "4tysInlf9uCf",
    "pycharm": {
     "name": "#%% md\n"
    }
   },
   "source": [
    "Aliases"
   ]
  },
  {
   "cell_type": "code",
   "execution_count": null,
   "metadata": {
    "id": "EJGyzooU9w_D",
    "pycharm": {
     "name": "#%%\n"
    }
   },
   "outputs": [],
   "source": [
    "# Search for metal chalcogenides:\n",
    "show('https://aflow.org/API/aflux/?spacegroup_relax(216),Pearson_symbol_relax(cF8),nspecies(2),species(Chalcogens,Metals),paging(0)')"
   ]
  },
  {
   "cell_type": "markdown",
   "metadata": {
    "id": "TnCuknSA-oXS",
    "pycharm": {
     "name": "#%% md\n"
    }
   },
   "source": [
    "## AFLUX: Example\n",
    "The following code block enables the quick interaction with AFLUX using python."
   ]
  },
  {
   "cell_type": "code",
   "execution_count": null,
   "metadata": {
    "id": "DzSya7MG5I2Q",
    "pycharm": {
     "name": "#%%\n"
    }
   },
   "outputs": [],
   "source": [
    "import json\n",
    "from json import JSONDecodeError\n",
    "from urllib.request import urlopen\n",
    "\n",
    "SERVER=\"https://aflow.org\"\n",
    "API=\"/API/aflux/?\"\n",
    "\n",
    "# Download a AFLUX response and return it as list of dictionaries\n",
    "def aflux_request(matchbook, paging=1, no_directives=False):\n",
    "    request_url = SERVER + API + matchbook\n",
    "    if not no_directives:\n",
    "        request_url += f\",$paging({paging}),format(json)\"\n",
    "    server_response = urlopen(request_url)\n",
    "    response_content  = server_response.read().decode(\"utf-8\")\n",
    "    # Basic error handling\n",
    "    if server_response.getcode() == 200:\n",
    "        try:\n",
    "            return json.loads(response_content)\n",
    "        except JSONDecodeError:\n",
    "            pass\n",
    "    print(\"AFLUX request failed!\")\n",
    "    print(f\"  URL: {request_url}\")\n",
    "    print(f\"  Response: {response_content}\")\n",
    "    return []\n",
    "\n",
    "# Print the build in help of AFLUX\n",
    "def aflux_help(keyword=None):\n",
    "    if keyword is None:\n",
    "        # General help (https://aflow.org/API/aflux/?)\n",
    "        help_data = aflux_request(\"\", no_directives=True)\n",
    "        print(\"\\n\".join(help_data))\n",
    "    else:\n",
    "        # Help regarding a specific keyword (https://aflow.org/API/aflux/?help(keyword))\n",
    "        help_data = aflux_request(f\"help({keyword})\")\n",
    "        for key, entry in help_data.items():\n",
    "            print(key)\n",
    "            print(f\"  description: {entry['description']}\")\n",
    "            print(f\"  units: {entry['units']}\")\n",
    "            print(f\"  status: {entry['status']}\")\n",
    "            comment = \"\\n    \".join(entry[\"__comment__\"]).strip()\n",
    "            if comment:\n",
    "                print(f\"  comment:\\n    {comment}\")"
   ]
  },
  {
   "cell_type": "markdown",
   "metadata": {
    "id": "bPV301x7CMwK",
    "pycharm": {
     "name": "#%% md\n"
    }
   },
   "source": [
    "From the ICSD catalog, find the VRH bulk moduli ('ael_bulk_modulus_vrh') for materials containing Ti in the AFLOW database. What is the material with the highest bulk modulus? What is the lattice type ('Bravais_lattice_relax') and space group of this material? Is it a metal or an insulator ('Egap_type')? "
   ]
  },
  {
   "cell_type": "code",
   "execution_count": null,
   "metadata": {
    "pycharm": {
     "name": "#%%\n"
    }
   },
   "outputs": [],
   "source": [
    "aflux_help('ael_bulk_modulus_vrh')"
   ]
  },
  {
   "cell_type": "code",
   "execution_count": null,
   "metadata": {
    "pycharm": {
     "name": "#%%\n"
    }
   },
   "outputs": [],
   "source": [
    "data_vrh = aflux_request('ael_bulk_modulus_vrh,species(Ti),catalog(icsd),Bravais_lattice_relax,Egap,Egap_type', -1)"
   ]
  },
  {
   "cell_type": "code",
   "execution_count": null,
   "metadata": {
    "tags": []
   },
   "outputs": [],
   "source": [
    "print(f\"The {data_vrh[0]['Egap_type']} {data_vrh[0]['compound']} ({data_vrh[0]['auid']}) has the highest bulk modulus at {{data_vrh[0]['auid']}} GPa.\")\n",
    "print(f\"  lattice: {data_vrh[0]['Bravais_lattice_relax']}\")\n",
    "print(f\"  spacegroup: {data_vrh[0]['spacegroup_relax']}\")"
   ]
  }
 ],
 "metadata": {
  "colab": {
   "collapsed_sections": [],
   "name": "1_aflow_database_aflux.ipynb",
   "provenance": []
  },
  "kernelspec": {
   "display_name": "Python 3 (ipykernel)",
   "language": "python",
   "name": "python3"
  },
  "language_info": {
   "codemirror_mode": {
    "name": "ipython",
    "version": 3
   },
   "file_extension": ".py",
   "mimetype": "text/x-python",
   "name": "python",
   "nbconvert_exporter": "python",
   "pygments_lexer": "ipython3",
   "version": "3.9.13"
  }
 },
 "nbformat": 4,
 "nbformat_minor": 4
}
