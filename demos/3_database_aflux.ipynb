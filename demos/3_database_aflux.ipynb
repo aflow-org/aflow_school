{
 "cells": [
  {
   "cell_type": "markdown",
   "metadata": {
    "id": "P_-YqfDoCMvm",
    "pycharm": {
     "name": "#%% md\n"
    }
   },
   "source": [
    "## AFLUX: AFLOW Search-API\n",
    "\n",
    "**Aim:** Programmatically expose the same functionality as our web search interface at https://aflow.org/search\n",
    "\n",
    "- AFLUX enables search through the query string of the URL ```?<operator>``` by exposing several logical operators.\n",
    "- Operators can be inter-property and/or intra-property.\n",
    "\n",
    "### List of logical operators and AFLUX syntax\n",
    "|Logical operator |      AFLUX syntax          |        Operator             |\n",
    "| --------------  |:--------------------------:| ---------------------------:|\n",
    "| ```<block>```   |    ```(``` and ```)```     |  Intra- and inter-property  |\n",
    "| ```<AND>```     |          ```,```           |  Intra- and inter-property  |\n",
    "| ```<OR>```      |          ```:```           |  Intra- and inter-property  |\n",
    "| ```<NOT>```     |          ```!```           |       Intra-property        |\n",
    "| ```<loose>```   |          ```*```           |       Intra-property        |\n",
    "| ```<string>```  |          ```'```           |       Inter-property        |\n",
    "| ```<mute>```    |          ```$```           |       Intra-property        |\n",
    "\n",
    "- In AFLUX operators are used to create a query. In our terminology a query is comprised of a **matchbook** and **directives**.\n",
    "\n",
    "    ![](../images/AFLUX_URL.png)\n",
    "\n",
    "### Matchbook:\n",
    "- Materials keywords with arguments: ```<server>?species((Na:K),Cl),nspecies(2),Egap(1*,*5),energy_cell```.\n",
    "\n",
    "### Directives:\n",
    "- Used for formatting, moving between layers (catalog) and pagination.\n",
    "- **format** takes args ```\"json\"``` and ```\"html\"```.\n",
    "- **catalog** takes args ```\"icsd\"```, ```\"lib1\"```, ```\"lib2\"```, ...\n",
    "- **paging** controls page number, number of entries per page, and sorting. By default entries are sorted in ascending order of first materials keyword. Order can be reversed by using a negative page number.\n"
   ]
  },
  {
   "cell_type": "markdown",
   "metadata": {
    "id": "TFkBL7WqCMvn",
    "pycharm": {
     "name": "#%% md\n"
    }
   },
   "source": [
    "## AFLUX: examples"
   ]
  },
  {
   "cell_type": "markdown",
   "metadata": {
    "id": "lTmLKIaPsPrZ",
    "pycharm": {
     "name": "#%% md\n"
    }
   },
   "source": [
    "Help directives"
   ]
  },
  {
   "cell_type": "code",
   "execution_count": null,
   "metadata": {
    "id": "5GfbJxUcCMvn",
    "pycharm": {
     "name": "#%%\n"
    }
   },
   "outputs": [],
   "source": [
    "# Help text.\n",
    "!curl 'https://aflow.org/API/aflux/?'"
   ]
  },
  {
   "cell_type": "code",
   "execution_count": null,
   "metadata": {
    "id": "ccU7f2hRCMvt",
    "pycharm": {
     "name": "#%%\n"
    }
   },
   "outputs": [],
   "source": [
    "# List of matchbook keywords.\n",
    "!curl 'https://aflow.org/API/aflux/?schema,format(json)'"
   ]
  },
  {
   "cell_type": "markdown",
   "metadata": {
    "id": "kAnf9ezUsYcR",
    "pycharm": {
     "name": "#%% md\n"
    }
   },
   "source": [
    "Operators \\<block\\>, \\<AND\\>, \\<OR\\>, \\<NOT\\>"
   ]
  },
  {
   "cell_type": "code",
   "execution_count": null,
   "metadata": {
    "id": "5SdvQRhcr2v_",
    "pycharm": {
     "name": "#%%\n"
    }
   },
   "outputs": [],
   "source": [
    "# Search compounds containing Cr and 3 total species.\n",
    "!curl 'https://aflow.org/API/aflux/?species(Cr),catalog(ICSD),nspecies(3),paging(1)'"
   ]
  },
  {
   "cell_type": "code",
   "execution_count": null,
   "metadata": {
    "id": "tPKN3cgKsFew",
    "pycharm": {
     "name": "#%%\n"
    }
   },
   "outputs": [],
   "source": [
    "# Exclude oxygen from the results.\n",
    "!curl 'https://aflow.org/API/aflux/?species(Cr,!O),catalog(ICSD),nspecies(3),paging(1)'"
   ]
  },
  {
   "cell_type": "code",
   "execution_count": null,
   "metadata": {
    "id": "ZFYAqsdPsMi3",
    "pycharm": {
     "name": "#%%\n"
    }
   },
   "outputs": [],
   "source": [
    "# List compounds from ICSD catalog containing Cr or Mn and 3 species.\n",
    "!curl 'https://aflow.org/API/aflux/?species(Cr:Mn),catalog(ICSD),nspecies(3),paging(1)'"
   ]
  },
  {
   "cell_type": "code",
   "execution_count": null,
   "metadata": {
    "id": "zA6_ad6MszfW",
    "pycharm": {
     "name": "#%%\n"
    }
   },
   "outputs": [],
   "source": [
    "# Retrieve compounds with 3 species from ICSD catalog containing Cr and Se, or Cr and Te and 3 species.\n",
    "!curl 'https://aflow.org/API/aflux/?species(Cr,(Se:Te)),catalog(ICSD),nspecies(3),paging(1)'"
   ]
  },
  {
   "cell_type": "markdown",
   "metadata": {
    "id": "T6m0rAK8tOaW",
    "pycharm": {
     "name": "#%% md\n"
    }
   },
   "source": [
    "Operators: \\<loose\\>"
   ]
  },
  {
   "cell_type": "code",
   "execution_count": null,
   "metadata": {
    "id": "aOhD4RtDtT0g",
    "pycharm": {
     "name": "#%%\n"
    }
   },
   "outputs": [],
   "source": [
    "# Retrieve the band gaps for all quaternary compounds\n",
    "!curl 'https://aflow.org/API/aflux/?Egap,nspecies(4),paging(1)'"
   ]
  },
  {
   "cell_type": "code",
   "execution_count": null,
   "metadata": {
    "id": "WdCeXGLptg0F",
    "pycharm": {
     "name": "#%%\n"
    }
   },
   "outputs": [],
   "source": [
    "# Only show non-null results\n",
    "!curl 'https://aflow.org/API/aflux/?Egap(*),nspecies(4),paging(1)'"
   ]
  },
  {
   "cell_type": "code",
   "execution_count": null,
   "metadata": {
    "id": "JdRORymttmVr",
    "pycharm": {
     "name": "#%%\n"
    }
   },
   "outputs": [],
   "source": [
    "# Only show results where Egap is greater than or equal to 1eV\n",
    "!curl 'https://aflow.org/API/aflux/?Egap(1*),nspecies(4),paging(1)'"
   ]
  },
  {
   "cell_type": "code",
   "execution_count": null,
   "metadata": {
    "id": "yo34ZpobtyRn",
    "pycharm": {
     "name": "#%%\n"
    }
   },
   "outputs": [],
   "source": [
    "# Only show results where Egap is greater than or equal to 1eV and less than or equal to 3eV\n",
    "!curl 'https://aflow.org/API/aflux/?Egap(1*,*3),nspecies(4),paging(1)'"
   ]
  },
  {
   "cell_type": "markdown",
   "metadata": {
    "pycharm": {
     "name": "#%% md\n"
    }
   },
   "source": [
    "Directives: paging"
   ]
  },
  {
   "cell_type": "code",
   "execution_count": null,
   "metadata": {
    "id": "Wh3tsnQ-2eAE",
    "pycharm": {
     "name": "#%%\n"
    }
   },
   "outputs": [],
   "source": [
    "# Show nth (e.g. 5th) results page (default: 64 entries/page):\n",
    "!curl 'https://aflow.org/API/aflux/?Egap(1*,*3),nspecies(4),paging(5)'"
   ]
  },
  {
   "cell_type": "code",
   "execution_count": null,
   "metadata": {
    "id": "Rig1Z9z83Ri6",
    "pycharm": {
     "name": "#%%\n"
    }
   },
   "outputs": [],
   "source": [
    "# Change page size to m (e.g. 100) entries per page:\n",
    "!curl 'https://aflow.org/API/aflux/?Egap(1*,*3),nspecies(4),paging(5,100)'"
   ]
  },
  {
   "cell_type": "markdown",
   "metadata": {
    "id": "wENragE94Lhl",
    "pycharm": {
     "name": "#%% md\n"
    }
   },
   "source": [
    "Sorting"
   ]
  },
  {
   "cell_type": "code",
   "execution_count": null,
   "metadata": {
    "id": "Z1e5dojp4PDG",
    "pycharm": {
     "name": "#%%\n"
    }
   },
   "outputs": [],
   "source": [
    "# Sort in ascending order:\n",
    "!curl 'https://aflow.org/API/aflux/?Egap(1*,*3),nspecies(4),$paging(1)'"
   ]
  },
  {
   "cell_type": "code",
   "execution_count": null,
   "metadata": {
    "id": "iwha1Bop4Yg2",
    "pycharm": {
     "name": "#%%\n"
    }
   },
   "outputs": [],
   "source": [
    "# Sort in descending order (also works for n=0):\n",
    "!curl 'https://aflow.org/API/aflux/?Egap(1*,*3),nspecies(4),$paging(-1)'"
   ]
  },
  {
   "cell_type": "markdown",
   "metadata": {
    "id": "4tysInlf9uCf",
    "pycharm": {
     "name": "#%% md\n"
    }
   },
   "source": [
    "Aliases"
   ]
  },
  {
   "cell_type": "code",
   "execution_count": null,
   "metadata": {
    "id": "EJGyzooU9w_D",
    "pycharm": {
     "name": "#%%\n"
    }
   },
   "outputs": [],
   "source": [
    "# Search for metal chalcogenides:\n",
    "!curl 'https://aflow.org/API/aflux/?spacegroup_relax(216),Pearson_symbol_relax(cF8),nspecies(2),species(Chalcogens,Metals),paging(0)'"
   ]
  },
  {
   "cell_type": "markdown",
   "metadata": {
    "id": "TnCuknSA-oXS",
    "pycharm": {
     "name": "#%% md\n"
    }
   },
   "source": [
    "The following code block enables the quick interaction with AFLUX using python."
   ]
  },
  {
   "cell_type": "code",
   "execution_count": 1,
   "metadata": {
    "id": "DzSya7MG5I2Q",
    "pycharm": {
     "name": "#%%\n"
    }
   },
   "outputs": [],
   "source": [
    "import json\n",
    "from json import JSONDecodeError\n",
    "from urllib.request import urlopen\n",
    "\n",
    "SERVER=\"https://aflow.org\"\n",
    "API=\"/API/aflux/?\"\n",
    "\n",
    "# Download a AFLUX response and return it as list of dictionaries\n",
    "def aflux_request(matchbook, paging=1, no_directives=False):\n",
    "    request_url = SERVER + API + matchbook\n",
    "    if not no_directives:\n",
    "        request_url += f\",$paging({paging}),format(json)\"\n",
    "    server_response = urlopen(request_url)\n",
    "    response_content  = server_response.read().decode(\"utf-8\")\n",
    "    # Basic error handling\n",
    "    if server_response.getcode() == 200:\n",
    "        try:\n",
    "            return json.loads(response_content)\n",
    "        except JSONDecodeError:\n",
    "            pass\n",
    "    print(\"AFLUX request failed!\")\n",
    "    print(f\"  URL: {request_url}\")\n",
    "    print(f\"  Response: {response_content}\")\n",
    "    return []\n",
    "\n",
    "# Print the build in help of AFLUX\n",
    "def aflux_help(keyword=None):\n",
    "    if keyword is None:\n",
    "        # General help (https://aflow.org/API/aflux/?)\n",
    "        help_data = aflux_request(\"\", no_directives=True)\n",
    "        print(\"\\n\".join(help_data))\n",
    "    else:\n",
    "        # Help regarding a specific keyword (https://aflow.org/API/aflux/?help(keyword))\n",
    "        help_data = aflux_request(f\"help({keyword})\")\n",
    "        for key, entry in help_data.items():\n",
    "            print(key)\n",
    "            print(f\"  description: {entry['description']}\")\n",
    "            print(f\"  units: {entry['units']}\")\n",
    "            print(f\"  status: {entry['status']}\")\n",
    "            comment = \"\\n    \".join(entry[\"__comment__\"]).strip()\n",
    "            if comment:\n",
    "                print(f\"  comment:\\n    {comment}\")"
   ]
  },
  {
   "cell_type": "markdown",
   "metadata": {
    "id": "bPV301x7CMwK",
    "pycharm": {
     "name": "#%% md\n"
    }
   },
   "source": [
    "### 1. Example\n",
    "From the ICSD catalog, find the VRH bulk moduli ('ael_bulk_modulus_vrh') for materials containing Ti in the AFLOW database. What is the material with the highest bulk modulus? What is the lattice type ('Bravais_lattice_relax') and space group of this material? Is it a metal or an insulator ('Egap_type')? "
   ]
  },
  {
   "cell_type": "code",
   "execution_count": null,
   "outputs": [],
   "source": [
    "aflux_help('ael_bulk_modulus_vrh')"
   ],
   "metadata": {
    "collapsed": false,
    "pycharm": {
     "name": "#%%\n"
    }
   }
  },
  {
   "cell_type": "code",
   "execution_count": null,
   "outputs": [],
   "source": [
    "data_vrh = aflux_request('species(Ti),catalog(icsd),ael_bulk_modulus_vrh,Bravais_lattice_relax')"
   ],
   "metadata": {
    "collapsed": false,
    "pycharm": {
     "name": "#%%\n"
    }
   }
  },
  {
   "cell_type": "code",
   "execution_count": null,
   "outputs": [],
   "source": [
    "data_vrh"
   ],
   "metadata": {
    "collapsed": false,
    "pycharm": {
     "name": "#%%\n"
    }
   }
  },
  {
   "cell_type": "code",
   "execution_count": 4,
   "metadata": {},
   "outputs": [],
   "source": [
    "data_vrh = aflux_request('species(Ti),catalog(icsd),ael_bulk_modulus_vrh,Bravais_lattice_relax')"
   ]
  },
  {
   "cell_type": "code",
   "execution_count": 5,
   "metadata": {},
   "outputs": [
    {
     "data": {
      "text/plain": [
       "[{'compound': 'Ag4Cs4S8Ti2',\n",
       "  'auid': 'aflow:a8cd34ff24baeccf',\n",
       "  'aurl': 'aflowlib.duke.edu:AFLOWDATA/ICSD_WEB/TET/Ag2Cs2S4Ti1_ICSD_280645',\n",
       "  'spacegroup_relax': 132,\n",
       "  'Pearson_symbol_relax': 'tP18',\n",
       "  'species': ['Ag', 'Cs', 'S', 'Ti'],\n",
       "  'catalog': 'ICSD',\n",
       "  'ael_bulk_modulus_vrh': None,\n",
       "  'Bravais_lattice_relax': 'TET'},\n",
       " {'compound': 'Ag4Eu4O16Ti4',\n",
       "  'auid': 'aflow:3e25083b7929dd89',\n",
       "  'aurl': 'aflowlib.duke.edu:AFLOWDATA/ICSD_WEB/TET/Ag1Eu1O4Ti1_ICSD_78720',\n",
       "  'spacegroup_relax': 57,\n",
       "  'Pearson_symbol_relax': 'oP28',\n",
       "  'species': ['Ag', 'Eu', 'O', 'Ti'],\n",
       "  'catalog': 'ICSD',\n",
       "  'ael_bulk_modulus_vrh': None,\n",
       "  'Bravais_lattice_relax': 'ORC'},\n",
       " {'compound': 'Ag4Eu4O16Ti4',\n",
       "  'auid': 'aflow:8228e72e9fcbf3c7',\n",
       "  'aurl': 'aflowlib.duke.edu:AFLOWDATA/ICSD_WEB/ORC/Ag1Eu1O4Ti1_ICSD_78720',\n",
       "  'spacegroup_relax': 57,\n",
       "  'Pearson_symbol_relax': 'oP28',\n",
       "  'species': ['Ag', 'Eu', 'O', 'Ti'],\n",
       "  'catalog': 'ICSD',\n",
       "  'ael_bulk_modulus_vrh': None,\n",
       "  'Bravais_lattice_relax': 'ORC'},\n",
       " {'compound': 'Ag1F6Ti1',\n",
       "  'auid': 'aflow:029401cb949af6ef',\n",
       "  'aurl': 'aflowlib.duke.edu:AFLOWDATA/ICSD_WEB/TRI/Ag1F6Ti1_ICSD_51506',\n",
       "  'spacegroup_relax': 2,\n",
       "  'Pearson_symbol_relax': 'aP8',\n",
       "  'species': ['Ag', 'F', 'Ti'],\n",
       "  'catalog': 'ICSD',\n",
       "  'ael_bulk_modulus_vrh': None,\n",
       "  'Bravais_lattice_relax': 'TRI'},\n",
       " {'compound': 'Ag1Hg2Ti1',\n",
       "  'auid': 'aflow:5d8e27a93cf8e651',\n",
       "  'aurl': 'aflowlib.duke.edu:AFLOWDATA/ICSD_WEB/TET/Ag1Hg2Ti1_ICSD_58276',\n",
       "  'spacegroup_relax': 123,\n",
       "  'Pearson_symbol_relax': 'tP4',\n",
       "  'species': ['Ag', 'Hg', 'Ti'],\n",
       "  'catalog': 'ICSD',\n",
       "  'ael_bulk_modulus_vrh': None,\n",
       "  'Bravais_lattice_relax': 'TET'},\n",
       " {'compound': 'Ag2I6O18Ti1',\n",
       "  'auid': 'aflow:ce488ede5409e171',\n",
       "  'aurl': 'aflowlib.duke.edu:AFLOWDATA/ICSD_WEB/RHL/Ag2I6O18Ti1_ICSD_420852',\n",
       "  'spacegroup_relax': 148,\n",
       "  'Pearson_symbol_relax': 'hR27',\n",
       "  'species': ['Ag', 'I', 'O', 'Ti'],\n",
       "  'catalog': 'ICSD',\n",
       "  'ael_bulk_modulus_vrh': None,\n",
       "  'Bravais_lattice_relax': 'RHL'},\n",
       " {'compound': 'Ag2La2O10Ti3',\n",
       "  'auid': 'aflow:13b39bac769602cf',\n",
       "  'aurl': 'aflowlib.duke.edu:AFLOWDATA/ICSD_WEB/BCT/Ag2La2O10Ti3_ICSD_74194',\n",
       "  'spacegroup_relax': 139,\n",
       "  'Pearson_symbol_relax': 'tI34',\n",
       "  'species': ['Ag', 'La', 'O', 'Ti'],\n",
       "  'catalog': 'ICSD',\n",
       "  'ael_bulk_modulus_vrh': None,\n",
       "  'Bravais_lattice_relax': 'BCT'},\n",
       " {'compound': 'Ag8O12Ti4',\n",
       "  'auid': 'aflow:ab2b71135f9cfc45',\n",
       "  'aurl': 'aflowlib.duke.edu:AFLOWDATA/ICSD_WEB/MCLC/Ag2O3Ti1_ICSD_84970',\n",
       "  'spacegroup_relax': 15,\n",
       "  'Pearson_symbol_relax': 'mS48',\n",
       "  'species': ['Ag', 'O', 'Ti'],\n",
       "  'catalog': 'ICSD',\n",
       "  'ael_bulk_modulus_vrh': None,\n",
       "  'Bravais_lattice_relax': 'MCLC'},\n",
       " {'compound': 'Ag8P8S44Ti8',\n",
       "  'auid': 'aflow:39c53f7f99114325',\n",
       "  'aurl': 'aflowlib.duke.edu:AFLOWDATA/ICSD_WEB/ORC/Ag2P2S11Ti2_ICSD_84606',\n",
       "  'spacegroup_relax': 62,\n",
       "  'Pearson_symbol_relax': 'oP68',\n",
       "  'species': ['Ag', 'P', 'S', 'Ti'],\n",
       "  'catalog': 'ICSD',\n",
       "  'ael_bulk_modulus_vrh': None,\n",
       "  'Bravais_lattice_relax': 'ORC'},\n",
       " {'compound': 'Ag2Rb10Se54Ti12',\n",
       "  'auid': 'aflow:3572fe4b93a15299',\n",
       "  'aurl': 'aflowlib.duke.edu:AFLOWDATA/ICSD_WEB/HEX/Ag1Rb5Se27Ti6_ICSD_280565',\n",
       "  'spacegroup_relax': 159,\n",
       "  'Pearson_symbol_relax': 'hP78',\n",
       "  'species': ['Ag', 'Rb', 'Se', 'Ti'],\n",
       "  'catalog': 'ICSD',\n",
       "  'ael_bulk_modulus_vrh': None,\n",
       "  'Bravais_lattice_relax': 'HEX'},\n",
       " {'compound': 'Ag32S24Ti4',\n",
       "  'auid': 'aflow:432cdc9fe27f0e55',\n",
       "  'aurl': 'aflowlib.duke.edu:AFLOWDATA/ICSD_WEB/ORC/Ag8S6Ti1_ICSD_95648',\n",
       "  'spacegroup_relax': 33,\n",
       "  'Pearson_symbol_relax': 'oP60',\n",
       "  'species': ['Ag', 'S', 'Ti'],\n",
       "  'catalog': 'ICSD',\n",
       "  'ael_bulk_modulus_vrh': None,\n",
       "  'Bravais_lattice_relax': 'ORC'},\n",
       " {'compound': 'Ag2Se54Ti12Tl10',\n",
       "  'auid': 'aflow:d5bdc074ec3ed2ca',\n",
       "  'aurl': 'aflowlib.duke.edu:AFLOWDATA/ICSD_WEB/HEX/Ag1Se27Ti6Tl5_ICSD_171225',\n",
       "  'spacegroup_relax': 159,\n",
       "  'Pearson_symbol_relax': 'hP78',\n",
       "  'species': ['Ag', 'Se', 'Ti', 'Tl'],\n",
       "  'catalog': 'ICSD',\n",
       "  'ael_bulk_modulus_vrh': None,\n",
       "  'Bravais_lattice_relax': 'HEX'},\n",
       " {'compound': 'Ag1Ti1',\n",
       "  'auid': 'aflow:5621209d1ff5e215',\n",
       "  'aurl': 'aflowlib.duke.edu:AFLOWDATA/ICSD_WEB/TET/Ag1Ti1_ICSD_605937',\n",
       "  'spacegroup_relax': 123,\n",
       "  'Pearson_symbol_relax': 'tP2',\n",
       "  'species': ['Ag', 'Ti'],\n",
       "  'catalog': 'ICSD',\n",
       "  'ael_bulk_modulus_vrh': None,\n",
       "  'Bravais_lattice_relax': 'TET'},\n",
       " {'compound': 'Ag2Ti2',\n",
       "  'auid': 'aflow:7fc090bb2747841c',\n",
       "  'aurl': 'aflowlib.duke.edu:AFLOWDATA/ICSD_WEB/TET/Ag1Ti1_ICSD_605934',\n",
       "  'spacegroup_relax': 129,\n",
       "  'Pearson_symbol_relax': 'tP4',\n",
       "  'species': ['Ag', 'Ti'],\n",
       "  'catalog': 'ICSD',\n",
       "  'ael_bulk_modulus_vrh': 94.3181,\n",
       "  'Bravais_lattice_relax': 'TET'},\n",
       " {'compound': 'Ag1Ti2',\n",
       "  'auid': 'aflow:cd218b45a20c9d02',\n",
       "  'aurl': 'aflowlib.duke.edu:AFLOWDATA/ICSD_WEB/BCT/Ag1Ti2_ICSD_605935',\n",
       "  'spacegroup_relax': 139,\n",
       "  'Pearson_symbol_relax': 'tI6',\n",
       "  'species': ['Ag', 'Ti'],\n",
       "  'catalog': 'ICSD',\n",
       "  'ael_bulk_modulus_vrh': 105.475,\n",
       "  'Bravais_lattice_relax': 'BCT'},\n",
       " {'compound': 'Ag1Ti3',\n",
       "  'auid': 'aflow:d29ceef233bb8681',\n",
       "  'aurl': 'aflowlib.duke.edu:AFLOWDATA/ICSD_WEB/TET/Ag1Ti3_ICSD_58370',\n",
       "  'spacegroup_relax': 123,\n",
       "  'Pearson_symbol_relax': 'tP4',\n",
       "  'species': ['Ag', 'Ti'],\n",
       "  'catalog': 'ICSD',\n",
       "  'ael_bulk_modulus_vrh': None,\n",
       "  'Bravais_lattice_relax': 'TET'},\n",
       " {'compound': 'Ag1Ti2',\n",
       "  'auid': 'aflow:e303f787b377d3a9',\n",
       "  'aurl': 'aflowlib.duke.edu:AFLOWDATA/ICSD_WEB/BCT/Ag1Ti2_ICSD_605931',\n",
       "  'spacegroup_relax': 139,\n",
       "  'Pearson_symbol_relax': 'tI6',\n",
       "  'species': ['Ag', 'Ti'],\n",
       "  'catalog': 'ICSD',\n",
       "  'ael_bulk_modulus_vrh': None,\n",
       "  'Bravais_lattice_relax': 'BCT'},\n",
       " {'compound': 'Ag1Ti1',\n",
       "  'auid': 'aflow:eb0ad96ea5da35d1',\n",
       "  'aurl': 'aflowlib.duke.edu:AFLOWDATA/ICSD_WEB/TET/Ag1Ti1_ICSD_58369',\n",
       "  'spacegroup_relax': 123,\n",
       "  'Pearson_symbol_relax': 'tP2',\n",
       "  'species': ['Ag', 'Ti'],\n",
       "  'catalog': 'ICSD',\n",
       "  'ael_bulk_modulus_vrh': None,\n",
       "  'Bravais_lattice_relax': 'TET'},\n",
       " {'compound': 'Ag2Ti2',\n",
       "  'auid': 'aflow:f7ab4fe58ac99e43',\n",
       "  'aurl': 'aflowlib.duke.edu:AFLOWDATA/ICSD_WEB/TET/Ag1Ti1_ICSD_605930',\n",
       "  'spacegroup_relax': 129,\n",
       "  'Pearson_symbol_relax': 'tP4',\n",
       "  'species': ['Ag', 'Ti'],\n",
       "  'catalog': 'ICSD',\n",
       "  'ael_bulk_modulus_vrh': None,\n",
       "  'Bravais_lattice_relax': 'TET'},\n",
       " {'compound': 'Ag1Ti2',\n",
       "  'auid': 'aflow:fbd4cac26a327145',\n",
       "  'aurl': 'aflowlib.duke.edu:AFLOWDATA/ICSD_WEB/BCT/Ag1Ti2_ICSD_605939',\n",
       "  'spacegroup_relax': 139,\n",
       "  'Pearson_symbol_relax': 'tI6',\n",
       "  'species': ['Ag', 'Ti'],\n",
       "  'catalog': 'ICSD',\n",
       "  'ael_bulk_modulus_vrh': None,\n",
       "  'Bravais_lattice_relax': 'BCT'},\n",
       " {'compound': 'Al2Au2Ti2',\n",
       "  'auid': 'aflow:99f1e42424589356',\n",
       "  'aurl': 'aflowlib.duke.edu:AFLOWDATA/ICSD_WEB/HEX/Al1Au1Ti1_ICSD_57506',\n",
       "  'spacegroup_relax': 194,\n",
       "  'Pearson_symbol_relax': 'hP6',\n",
       "  'species': ['Al', 'Au', 'Ti'],\n",
       "  'catalog': 'ICSD',\n",
       "  'ael_bulk_modulus_vrh': None,\n",
       "  'Bravais_lattice_relax': 'HEX'},\n",
       " {'compound': 'Al1Au2Ti1',\n",
       "  'auid': 'aflow:c5cb9fc67bd390cc',\n",
       "  'aurl': 'aflowlib.duke.edu:AFLOWDATA/ICSD_WEB/FCC/Al1Au2Ti1_ICSD_57507',\n",
       "  'spacegroup_relax': 225,\n",
       "  'Pearson_symbol_relax': 'cF16',\n",
       "  'species': ['Al', 'Au', 'Ti'],\n",
       "  'catalog': 'ICSD',\n",
       "  'ael_bulk_modulus_vrh': 131.283,\n",
       "  'Bravais_lattice_relax': 'FCC'},\n",
       " {'compound': 'Al4Br16Ti2',\n",
       "  'auid': 'aflow:66e7dff3c0fc750e',\n",
       "  'aurl': 'aflowlib.duke.edu:AFLOWDATA/ICSD_WEB/ORC/Al2Br8Ti1_ICSD_39243',\n",
       "  'spacegroup_relax': 58,\n",
       "  'Pearson_symbol_relax': 'oP22',\n",
       "  'species': ['Al', 'Br', 'Ti'],\n",
       "  'catalog': 'ICSD',\n",
       "  'ael_bulk_modulus_vrh': None,\n",
       "  'Bravais_lattice_relax': 'ORC'},\n",
       " {'compound': 'Al4Br16Ti2',\n",
       "  'auid': 'aflow:98276188e49d948f',\n",
       "  'aurl': 'aflowlib.duke.edu:AFLOWDATA/ICSD_WEB/MCLC/Al2Br8Ti1_ICSD_40904',\n",
       "  'spacegroup_relax': 15,\n",
       "  'Pearson_symbol_relax': 'mS44',\n",
       "  'species': ['Al', 'Br', 'Ti'],\n",
       "  'catalog': 'ICSD',\n",
       "  'ael_bulk_modulus_vrh': None,\n",
       "  'Bravais_lattice_relax': 'MCLC'},\n",
       " {'compound': 'Al8C4Ni4Ti12',\n",
       "  'auid': 'aflow:fccde7661dc4ece9',\n",
       "  'aurl': 'aflowlib.duke.edu:AFLOWDATA/ICSD_WEB/FCC/Al2C1Ni1Ti3_ICSD_43862',\n",
       "  'spacegroup_relax': 227,\n",
       "  'Pearson_symbol_relax': 'cF112',\n",
       "  'species': ['Al', 'C', 'Ni', 'Ti'],\n",
       "  'catalog': 'ICSD',\n",
       "  'ael_bulk_modulus_vrh': None,\n",
       "  'Bravais_lattice_relax': 'FCC'},\n",
       " {'compound': 'Al1C1Ti3',\n",
       "  'auid': 'aflow:10a818deef1daaa0',\n",
       "  'aurl': 'aflowlib.duke.edu:AFLOWDATA/ICSD_WEB/CUB/Al1C1Ti3_ICSD_182476',\n",
       "  'spacegroup_relax': 221,\n",
       "  'Pearson_symbol_relax': 'cP5',\n",
       "  'species': ['Al', 'C', 'Ti'],\n",
       "  'catalog': 'ICSD',\n",
       "  'ael_bulk_modulus_vrh': None,\n",
       "  'Bravais_lattice_relax': 'CUB'},\n",
       " {'compound': 'Al2C2Ti4',\n",
       "  'auid': 'aflow:1f44cdb37c93e013',\n",
       "  'aurl': 'aflowlib.duke.edu:AFLOWDATA/ICSD_WEB/HEX/Al1C1Ti2_ICSD_184886',\n",
       "  'spacegroup_relax': 194,\n",
       "  'Pearson_symbol_relax': 'hP8',\n",
       "  'species': ['Al', 'C', 'Ti'],\n",
       "  'catalog': 'ICSD',\n",
       "  'ael_bulk_modulus_vrh': None,\n",
       "  'Bravais_lattice_relax': 'HEX'},\n",
       " {'compound': 'Al2C4Ti6',\n",
       "  'auid': 'aflow:3b26f32067f25639',\n",
       "  'aurl': 'aflowlib.duke.edu:AFLOWDATA/ICSD_WEB/HEX/Al1C2Ti3_ICSD_153266',\n",
       "  'spacegroup_relax': 194,\n",
       "  'Pearson_symbol_relax': 'hP12',\n",
       "  'species': ['Al', 'C', 'Ti'],\n",
       "  'catalog': 'ICSD',\n",
       "  'ael_bulk_modulus_vrh': None,\n",
       "  'Bravais_lattice_relax': 'HEX'},\n",
       " {'compound': 'Al6C9Ti15',\n",
       "  'auid': 'aflow:436fbb196270cbb3',\n",
       "  'aurl': 'aflowlib.duke.edu:AFLOWDATA/ICSD_WEB/HEX/Al2C3Ti5_ICSD_187748',\n",
       "  'spacegroup_relax': 156,\n",
       "  'Pearson_symbol_relax': 'hP30',\n",
       "  'species': ['Al', 'C', 'Ti'],\n",
       "  'catalog': 'ICSD',\n",
       "  'ael_bulk_modulus_vrh': None,\n",
       "  'Bravais_lattice_relax': 'HEX'},\n",
       " {'compound': 'Al1C1Ti3',\n",
       "  'auid': 'aflow:4d8faf470aa227b6',\n",
       "  'aurl': 'aflowlib.duke.edu:AFLOWDATA/ICSD_WEB/CUB/Al1C1Ti3_ICSD_163843',\n",
       "  'spacegroup_relax': 221,\n",
       "  'Pearson_symbol_relax': 'cP5',\n",
       "  'species': ['Al', 'C', 'Ti'],\n",
       "  'catalog': 'ICSD',\n",
       "  'ael_bulk_modulus_vrh': 149.256,\n",
       "  'Bravais_lattice_relax': 'CUB'},\n",
       " {'compound': 'Al2C4Ti6',\n",
       "  'auid': 'aflow:507aa1f96ec1b98f',\n",
       "  'aurl': 'aflowlib.duke.edu:AFLOWDATA/ICSD_WEB/HEX/Al1C2Ti3_ICSD_182475',\n",
       "  'spacegroup_relax': 194,\n",
       "  'Pearson_symbol_relax': 'hP12',\n",
       "  'species': ['Al', 'C', 'Ti'],\n",
       "  'catalog': 'ICSD',\n",
       "  'ael_bulk_modulus_vrh': None,\n",
       "  'Bravais_lattice_relax': 'HEX'},\n",
       " {'compound': 'Al1C1Ti3',\n",
       "  'auid': 'aflow:54d1507341c8ad7c',\n",
       "  'aurl': 'aflowlib.duke.edu:AFLOWDATA/ICSD_WEB/CUB/Al1C1Ti3_ICSD_606276',\n",
       "  'spacegroup_relax': 221,\n",
       "  'Pearson_symbol_relax': 'cP5',\n",
       "  'species': ['Al', 'C', 'Ti'],\n",
       "  'catalog': 'ICSD',\n",
       "  'ael_bulk_modulus_vrh': None,\n",
       "  'Bravais_lattice_relax': 'CUB'},\n",
       " {'compound': 'Al2C2Ti4',\n",
       "  'auid': 'aflow:5ac71433c4044a99',\n",
       "  'aurl': 'aflowlib.duke.edu:AFLOWDATA/ICSD_WEB/HEX/Al1C1Ti2_ICSD_604361',\n",
       "  'spacegroup_relax': 194,\n",
       "  'Pearson_symbol_relax': 'hP8',\n",
       "  'species': ['Al', 'C', 'Ti'],\n",
       "  'catalog': 'ICSD',\n",
       "  'ael_bulk_modulus_vrh': None,\n",
       "  'Bravais_lattice_relax': 'HEX'},\n",
       " {'compound': 'Al1C1Ti3',\n",
       "  'auid': 'aflow:610fb9a4f57cf6b9',\n",
       "  'aurl': 'aflowlib.duke.edu:AFLOWDATA/ICSD_WEB/CUB/Al1C1Ti3_ICSD_606269',\n",
       "  'spacegroup_relax': 221,\n",
       "  'Pearson_symbol_relax': 'cP5',\n",
       "  'species': ['Al', 'C', 'Ti'],\n",
       "  'catalog': 'ICSD',\n",
       "  'ael_bulk_modulus_vrh': None,\n",
       "  'Bravais_lattice_relax': 'CUB'},\n",
       " {'compound': 'Al1C1Ti3',\n",
       "  'auid': 'aflow:787deb5f8b1c2b67',\n",
       "  'aurl': 'aflowlib.duke.edu:AFLOWDATA/ICSD_WEB/CUB/Al1C1Ti3_ICSD_163846',\n",
       "  'spacegroup_relax': 221,\n",
       "  'Pearson_symbol_relax': 'cP5',\n",
       "  'species': ['Al', 'C', 'Ti'],\n",
       "  'catalog': 'ICSD',\n",
       "  'ael_bulk_modulus_vrh': None,\n",
       "  'Bravais_lattice_relax': 'CUB'},\n",
       " {'compound': 'Al1C1Ti3',\n",
       "  'auid': 'aflow:8082697f8491774d',\n",
       "  'aurl': 'aflowlib.duke.edu:AFLOWDATA/ICSD_WEB/CUB/Al1C1Ti3_ICSD_606273',\n",
       "  'spacegroup_relax': 221,\n",
       "  'Pearson_symbol_relax': 'cP5',\n",
       "  'species': ['Al', 'C', 'Ti'],\n",
       "  'catalog': 'ICSD',\n",
       "  'ael_bulk_modulus_vrh': None,\n",
       "  'Bravais_lattice_relax': 'CUB'},\n",
       " {'compound': 'Al2C2Ti4',\n",
       "  'auid': 'aflow:8607ffc0ac0871db',\n",
       "  'aurl': 'aflowlib.duke.edu:AFLOWDATA/ICSD_WEB/HEX/Al1C1Ti2_ICSD_606275',\n",
       "  'spacegroup_relax': 194,\n",
       "  'Pearson_symbol_relax': 'hP8',\n",
       "  'species': ['Al', 'C', 'Ti'],\n",
       "  'catalog': 'ICSD',\n",
       "  'ael_bulk_modulus_vrh': None,\n",
       "  'Bravais_lattice_relax': 'HEX'},\n",
       " {'compound': 'Al2C4Ti6',\n",
       "  'auid': 'aflow:897ad701c61b0176',\n",
       "  'aurl': 'aflowlib.duke.edu:AFLOWDATA/ICSD_WEB/HEX/Al1C2Ti3_ICSD_93503',\n",
       "  'spacegroup_relax': 194,\n",
       "  'Pearson_symbol_relax': 'hP12',\n",
       "  'species': ['Al', 'C', 'Ti'],\n",
       "  'catalog': 'ICSD',\n",
       "  'ael_bulk_modulus_vrh': None,\n",
       "  'Bravais_lattice_relax': 'HEX'},\n",
       " {'compound': 'Al1C1Ti3',\n",
       "  'auid': 'aflow:8a9547b3a1b3e358',\n",
       "  'aurl': 'aflowlib.duke.edu:AFLOWDATA/ICSD_WEB/CUB/Al1C1Ti3_ICSD_185388',\n",
       "  'spacegroup_relax': 221,\n",
       "  'Pearson_symbol_relax': 'cP5',\n",
       "  'species': ['Al', 'C', 'Ti'],\n",
       "  'catalog': 'ICSD',\n",
       "  'ael_bulk_modulus_vrh': None,\n",
       "  'Bravais_lattice_relax': 'CUB'},\n",
       " {'compound': 'Al2C2Ti4',\n",
       "  'auid': 'aflow:8d8fc6d90cdeb4d0',\n",
       "  'aurl': 'aflowlib.duke.edu:AFLOWDATA/ICSD_WEB/HEX/Al1C1Ti2_ICSD_606272',\n",
       "  'spacegroup_relax': 194,\n",
       "  'Pearson_symbol_relax': 'hP8',\n",
       "  'species': ['Al', 'C', 'Ti'],\n",
       "  'catalog': 'ICSD',\n",
       "  'ael_bulk_modulus_vrh': None,\n",
       "  'Bravais_lattice_relax': 'HEX'},\n",
       " {'compound': 'Al2C2Ti4',\n",
       "  'auid': 'aflow:bce58a0e1b2fedae',\n",
       "  'aurl': 'aflowlib.duke.edu:AFLOWDATA/ICSD_WEB/HEX/Al1C1Ti2_ICSD_606270',\n",
       "  'spacegroup_relax': 194,\n",
       "  'Pearson_symbol_relax': 'hP8',\n",
       "  'species': ['Al', 'C', 'Ti'],\n",
       "  'catalog': 'ICSD',\n",
       "  'ael_bulk_modulus_vrh': None,\n",
       "  'Bravais_lattice_relax': 'HEX'},\n",
       " {'compound': 'Al2C2Ti4',\n",
       "  'auid': 'aflow:c09721842f319706',\n",
       "  'aurl': 'aflowlib.duke.edu:AFLOWDATA/ICSD_WEB/HEX/Al1C1Ti2_ICSD_165460',\n",
       "  'spacegroup_relax': 194,\n",
       "  'Pearson_symbol_relax': 'hP8',\n",
       "  'species': ['Al', 'C', 'Ti'],\n",
       "  'catalog': 'ICSD',\n",
       "  'ael_bulk_modulus_vrh': None,\n",
       "  'Bravais_lattice_relax': 'HEX'},\n",
       " {'compound': 'Al2C2Ti4',\n",
       "  'auid': 'aflow:ee35d82ec985e33c',\n",
       "  'aurl': 'aflowlib.duke.edu:AFLOWDATA/ICSD_WEB/HEX/Al1C1Ti2_ICSD_157767',\n",
       "  'spacegroup_relax': 194,\n",
       "  'Pearson_symbol_relax': 'hP8',\n",
       "  'species': ['Al', 'C', 'Ti'],\n",
       "  'catalog': 'ICSD',\n",
       "  'ael_bulk_modulus_vrh': 136.207,\n",
       "  'Bravais_lattice_relax': 'HEX'},\n",
       " {'compound': 'Al1C1Ti3',\n",
       "  'auid': 'aflow:ee2f15d0132196d2',\n",
       "  'aurl': 'aflowlib.duke.edu:AFLOWDATA/ICSD_WEB/CUB/Al1C1Ti3_ICSD_42925',\n",
       "  'spacegroup_relax': 221,\n",
       "  'Pearson_symbol_relax': 'cP5',\n",
       "  'species': ['Al', 'C', 'Ti'],\n",
       "  'catalog': 'ICSD',\n",
       "  'ael_bulk_modulus_vrh': None,\n",
       "  'Bravais_lattice_relax': 'CUB'},\n",
       " {'compound': 'Al2Ce6S14Ti2',\n",
       "  'auid': 'aflow:0b6edfb9c4b86465',\n",
       "  'aurl': 'aflowlib.duke.edu:AFLOWDATA/ICSD_WEB/HEX/Al1Ce3S7Ti1_ICSD_606505',\n",
       "  'spacegroup_relax': 4,\n",
       "  'Pearson_symbol_relax': 'mP24',\n",
       "  'species': ['Al', 'Ce', 'S', 'Ti'],\n",
       "  'catalog': 'ICSD',\n",
       "  'ael_bulk_modulus_vrh': None,\n",
       "  'Bravais_lattice_relax': 'MCL'},\n",
       " {'compound': 'Al40Ce2Ti4',\n",
       "  'auid': 'aflow:114670f1bd3c17be',\n",
       "  'aurl': 'aflowlib.duke.edu:AFLOWDATA/ICSD_WEB/FCC/Al20Ce1Ti2_ICSD_150113',\n",
       "  'spacegroup_relax': 227,\n",
       "  'Pearson_symbol_relax': 'cF184',\n",
       "  'species': ['Al', 'Ce', 'Ti'],\n",
       "  'catalog': 'ICSD',\n",
       "  'ael_bulk_modulus_vrh': None,\n",
       "  'Bravais_lattice_relax': 'FCC'},\n",
       " {'compound': 'Al40Ce2Ti4',\n",
       "  'auid': 'aflow:f48290d4466d501c',\n",
       "  'aurl': 'aflowlib.duke.edu:AFLOWDATA/ICSD_WEB/FCC/Al20Ce1Ti2_ICSD_236257',\n",
       "  'spacegroup_relax': 227,\n",
       "  'Pearson_symbol_relax': 'cF184',\n",
       "  'species': ['Al', 'Ce', 'Ti'],\n",
       "  'catalog': 'ICSD',\n",
       "  'ael_bulk_modulus_vrh': None,\n",
       "  'Bravais_lattice_relax': 'FCC'},\n",
       " {'compound': 'Al4Cl16Ti2',\n",
       "  'auid': 'aflow:70ed602e47a2fad2',\n",
       "  'aurl': 'aflowlib.duke.edu:AFLOWDATA/ICSD_WEB/MCLC/Al2Cl8Ti1_ICSD_39565',\n",
       "  'spacegroup_relax': 15,\n",
       "  'Pearson_symbol_relax': 'mS44',\n",
       "  'species': ['Al', 'Cl', 'Ti'],\n",
       "  'catalog': 'ICSD',\n",
       "  'ael_bulk_modulus_vrh': None,\n",
       "  'Bravais_lattice_relax': 'MCLC'},\n",
       " {'compound': 'Al4Cl16Ti2',\n",
       "  'auid': 'aflow:9afa4cc2b446572b',\n",
       "  'aurl': 'aflowlib.duke.edu:AFLOWDATA/ICSD_WEB/MCL/Al2Cl8Ti1_ICSD_35154',\n",
       "  'spacegroup_relax': 14,\n",
       "  'Pearson_symbol_relax': 'mP22',\n",
       "  'species': ['Al', 'Cl', 'Ti'],\n",
       "  'catalog': 'ICSD',\n",
       "  'ael_bulk_modulus_vrh': None,\n",
       "  'Bravais_lattice_relax': 'MCL'},\n",
       " {'compound': 'Al16Co7Ti6',\n",
       "  'auid': 'aflow:5d8d962e9e5115a4',\n",
       "  'aurl': 'aflowlib.duke.edu:AFLOWDATA/ICSD_WEB/FCC/Al16Co7Ti6_ICSD_606678',\n",
       "  'spacegroup_relax': 225,\n",
       "  'Pearson_symbol_relax': 'cF116',\n",
       "  'species': ['Al', 'Co', 'Ti'],\n",
       "  'catalog': 'ICSD',\n",
       "  'ael_bulk_modulus_vrh': None,\n",
       "  'Bravais_lattice_relax': 'FCC'},\n",
       " {'compound': 'Al1Co2Ti1',\n",
       "  'auid': 'aflow:7fd9c09131def966',\n",
       "  'aurl': 'aflowlib.duke.edu:AFLOWDATA/ICSD_WEB/FCC/Al1Co2Ti1_ICSD_185966',\n",
       "  'spacegroup_relax': 225,\n",
       "  'Pearson_symbol_relax': 'cF16',\n",
       "  'species': ['Al', 'Co', 'Ti'],\n",
       "  'catalog': 'ICSD',\n",
       "  'ael_bulk_modulus_vrh': 105.533,\n",
       "  'Bravais_lattice_relax': 'FCC'},\n",
       " {'compound': 'Al1Co2Ti1',\n",
       "  'auid': 'aflow:a524323627a7f116',\n",
       "  'aurl': 'aflowlib.duke.edu:AFLOWDATA/ICSD_WEB/FCC/Al1Co2Ti1_ICSD_606679',\n",
       "  'spacegroup_relax': 225,\n",
       "  'Pearson_symbol_relax': 'cF16',\n",
       "  'species': ['Al', 'Co', 'Ti'],\n",
       "  'catalog': 'ICSD',\n",
       "  'ael_bulk_modulus_vrh': None,\n",
       "  'Bravais_lattice_relax': 'FCC'},\n",
       " {'compound': 'Al1Co1Ti2',\n",
       "  'auid': 'aflow:bff091440ea1bda7',\n",
       "  'aurl': 'aflowlib.duke.edu:AFLOWDATA/ICSD_WEB/FCC/Al1Co1Ti2_ICSD_185662',\n",
       "  'spacegroup_relax': 216,\n",
       "  'Pearson_symbol_relax': 'cF16',\n",
       "  'species': ['Al', 'Co', 'Ti'],\n",
       "  'catalog': 'ICSD',\n",
       "  'ael_bulk_modulus_vrh': None,\n",
       "  'Bravais_lattice_relax': 'FCC'},\n",
       " {'compound': 'Al1Co2Ti1',\n",
       "  'auid': 'aflow:c7923cdb2cb36e15',\n",
       "  'aurl': 'aflowlib.duke.edu:AFLOWDATA/ICSD_WEB/FCC/Al1Co2Ti1_ICSD_606680',\n",
       "  'spacegroup_relax': 225,\n",
       "  'Pearson_symbol_relax': 'cF16',\n",
       "  'species': ['Al', 'Co', 'Ti'],\n",
       "  'catalog': 'ICSD',\n",
       "  'ael_bulk_modulus_vrh': None,\n",
       "  'Bravais_lattice_relax': 'FCC'},\n",
       " {'compound': 'Al1Co2Ti1',\n",
       "  'auid': 'aflow:cf2a2bbacafa125d',\n",
       "  'aurl': 'aflowlib.duke.edu:AFLOWDATA/ICSD_WEB/FCC/Al1Co2Ti1_ICSD_606685',\n",
       "  'spacegroup_relax': 225,\n",
       "  'Pearson_symbol_relax': 'cF16',\n",
       "  'species': ['Al', 'Co', 'Ti'],\n",
       "  'catalog': 'ICSD',\n",
       "  'ael_bulk_modulus_vrh': None,\n",
       "  'Bravais_lattice_relax': 'FCC'},\n",
       " {'compound': 'Al1Co2Ti1',\n",
       "  'auid': 'aflow:f2ef8c7ae7c9a919',\n",
       "  'aurl': 'aflowlib.duke.edu:AFLOWDATA/ICSD_WEB/FCC/Al1Co2Ti1_ICSD_606682',\n",
       "  'spacegroup_relax': 225,\n",
       "  'Pearson_symbol_relax': 'cF16',\n",
       "  'species': ['Al', 'Co', 'Ti'],\n",
       "  'catalog': 'ICSD',\n",
       "  'ael_bulk_modulus_vrh': None,\n",
       "  'Bravais_lattice_relax': 'FCC'},\n",
       " {'compound': 'Al1Cr1Ti2',\n",
       "  'auid': 'aflow:827107c5b49b67c5',\n",
       "  'aurl': 'aflowlib.duke.edu:AFLOWDATA/ICSD_WEB/FCC/Al1Cr1Ti2_ICSD_185876',\n",
       "  'spacegroup_relax': 216,\n",
       "  'Pearson_symbol_relax': 'cF16',\n",
       "  'species': ['Al', 'Cr', 'Ti'],\n",
       "  'catalog': 'ICSD',\n",
       "  'ael_bulk_modulus_vrh': None,\n",
       "  'Bravais_lattice_relax': 'FCC'},\n",
       " {'compound': 'Al1Cu2Ti1',\n",
       "  'auid': 'aflow:6ea3320001d10d87',\n",
       "  'aurl': 'aflowlib.duke.edu:AFLOWDATA/ICSD_WEB/FCC/Al1Cu2Ti1_ICSD_185280',\n",
       "  'spacegroup_relax': 225,\n",
       "  'Pearson_symbol_relax': 'cF16',\n",
       "  'species': ['Al', 'Cu', 'Ti'],\n",
       "  'catalog': 'ICSD',\n",
       "  'ael_bulk_modulus_vrh': 125.183,\n",
       "  'Bravais_lattice_relax': 'FCC'},\n",
       " {'compound': 'Al1Cu2Ti1',\n",
       "  'auid': 'aflow:77a5b6250486e7a9',\n",
       "  'aurl': 'aflowlib.duke.edu:AFLOWDATA/ICSD_WEB/FCC/Al1Cu2Ti1_ICSD_57719',\n",
       "  'spacegroup_relax': 225,\n",
       "  'Pearson_symbol_relax': 'cF16',\n",
       "  'species': ['Al', 'Cu', 'Ti'],\n",
       "  'catalog': 'ICSD',\n",
       "  'ael_bulk_modulus_vrh': None,\n",
       "  'Bravais_lattice_relax': 'FCC'},\n",
       " {'compound': 'Al1Cu1Ti2',\n",
       "  'auid': 'aflow:bf57085ef80f6d2d',\n",
       "  'aurl': 'aflowlib.duke.edu:AFLOWDATA/ICSD_WEB/FCC/Al1Cu1Ti2_ICSD_185881',\n",
       "  'spacegroup_relax': 216,\n",
       "  'Pearson_symbol_relax': 'cF16',\n",
       "  'species': ['Al', 'Cu', 'Ti'],\n",
       "  'catalog': 'ICSD',\n",
       "  'ael_bulk_modulus_vrh': 94.6278,\n",
       "  'Bravais_lattice_relax': 'FCC'},\n",
       " {'compound': 'Al1Cu2Ti1',\n",
       "  'auid': 'aflow:e83809f0c4d54e43',\n",
       "  'aurl': 'aflowlib.duke.edu:AFLOWDATA/ICSD_WEB/FCC/Al1Cu2Ti1_ICSD_656061',\n",
       "  'spacegroup_relax': 225,\n",
       "  'Pearson_symbol_relax': 'cF16',\n",
       "  'species': ['Al', 'Cu', 'Ti'],\n",
       "  'catalog': 'ICSD',\n",
       "  'ael_bulk_modulus_vrh': None,\n",
       "  'Bravais_lattice_relax': 'FCC'},\n",
       " {'compound': 'Al86Dy12Ti8',\n",
       "  'auid': 'aflow:3f8cf4cbba814f60',\n",
       "  'aurl': 'aflowlib.duke.edu:AFLOWDATA/ICSD_WEB/HEX/Al43Dy6Ti4_ICSD_150119',\n",
       "  'spacegroup_relax': 193,\n",
       "  'Pearson_symbol_relax': 'hP106',\n",
       "  'species': ['Al', 'Dy', 'Ti'],\n",
       "  'catalog': 'ICSD',\n",
       "  'ael_bulk_modulus_vrh': None,\n",
       "  'Bravais_lattice_relax': 'HEX'},\n",
       " {'compound': 'Al1Fe1Ti2',\n",
       "  'auid': 'aflow:5d88b99078c568b0',\n",
       "  'aurl': 'aflowlib.duke.edu:AFLOWDATA/ICSD_WEB/FCC/Al1Fe1Ti2_ICSD_185659',\n",
       "  'spacegroup_relax': 216,\n",
       "  'Pearson_symbol_relax': 'cF16',\n",
       "  'species': ['Al', 'Fe', 'Ti'],\n",
       "  'catalog': 'ICSD',\n",
       "  'ael_bulk_modulus_vrh': None,\n",
       "  'Bravais_lattice_relax': 'FCC'},\n",
       " {'compound': 'Al1Fe1Ti2',\n",
       "  'auid': 'aflow:7169889e8751ab93',\n",
       "  'aurl': 'aflowlib.duke.edu:AFLOWDATA/ICSD_WEB/FCC/Al1Fe1Ti2_ICSD_185878',\n",
       "  'spacegroup_relax': 216,\n",
       "  'Pearson_symbol_relax': 'cF16',\n",
       "  'species': ['Al', 'Fe', 'Ti'],\n",
       "  'catalog': 'ICSD',\n",
       "  'ael_bulk_modulus_vrh': None,\n",
       "  'Bravais_lattice_relax': 'FCC'}]"
      ]
     },
     "execution_count": 5,
     "metadata": {},
     "output_type": "execute_result"
    }
   ],
   "source": [
    "data_vrh"
   ]
  },
  {
   "cell_type": "markdown",
   "metadata": {
    "id": "CmTyqJAzCMwP",
    "pycharm": {
     "name": "#%% md\n"
    }
   },
   "source": [
    "2. Determine the bulk moduli of all binary materials in the AFLOW database with a transition metal and a chalcogen and a band gap between 1 eV and 3 eV. For the five compounds with the lowest bulk moduli, list the chemical formulae, space groups, bulk moduli, and band gaps."
   ]
  },
  {
   "cell_type": "code",
   "execution_count": null,
   "metadata": {
    "id": "jIzgkWHDCMwQ",
    "pycharm": {
     "name": "#%%\n"
    }
   },
   "outputs": [],
   "source": [
    "\"\"\"\n",
    "    Sample Python script to query AFLUX server\n",
    "\"\"\"\n",
    "#!/usr/bin/env python\n",
    "import json, sys, os\n",
    "from urllib.request import urlopen\n",
    "\n",
    "SERVER=\"https://aflow.org\"\n",
    "API=\"/API/aflux/?\"\n",
    "MATCHBOOK=\"\"\n",
    "DIRECTIVES=\"\"\n",
    "SUMMONS=MATCHBOOK+\",\"+DIRECTIVES\n",
    "\n",
    "response=json.loads(urlopen(SERVER+API+SUMMONS).read().decode(\"utf-8\"))\n",
    "for datum in response:\n",
    "    "
   ]
  },
  {
   "cell_type": "markdown",
   "metadata": {
    "id": "c2QDyyxvCMwV",
    "pycharm": {
     "name": "#%% md\n"
    }
   },
   "source": [
    "3. Narrow the choice of transition metals down to Fe, Ni and Co. Determine the five compounds with the largest magnetic moments per atom ('spin_atom') and list their chemical formulae, space groups, bulk moduli, and magnetic moments per atom."
   ]
  },
  {
   "cell_type": "code",
   "execution_count": null,
   "metadata": {
    "id": "PUBRAd1xCMwW",
    "pycharm": {
     "name": "#%%\n"
    }
   },
   "outputs": [],
   "source": [
    "\"\"\"\n",
    "    Sample Python script to query AFLUX server\n",
    "\"\"\"\n",
    "#!/usr/bin/env python\n",
    "import json, sys, os\n",
    "from urllib.request import urlopen\n",
    "\n",
    "SERVER=\"http://aflow.org\"\n",
    "API=\"/API/aflux/?\"\n",
    "MATCHBOOK=\"\"\n",
    "DIRECTIVES=\"\"\n",
    "SUMMONS=MATCHBOOK+\",\"+DIRECTIVES\n",
    "\n",
    "response=json.loads(urlopen(SERVER+API+SUMMONS).read().decode(\"utf-8\"))\n",
    "for datum in response:\n",
    "    "
   ]
  }
 ],
 "metadata": {
  "colab": {
   "collapsed_sections": [],
   "name": "1_aflow_database_aflux.ipynb",
   "provenance": []
  },
  "kernelspec": {
   "display_name": "Python 3 (ipykernel)",
   "language": "python",
   "name": "python3"
  },
  "language_info": {
   "codemirror_mode": {
    "name": "ipython",
    "version": 3
   },
   "file_extension": ".py",
   "mimetype": "text/x-python",
   "name": "python",
   "nbconvert_exporter": "python",
   "pygments_lexer": "ipython3",
   "version": "3.10.6"
  }
 },
 "nbformat": 4,
 "nbformat_minor": 1
}