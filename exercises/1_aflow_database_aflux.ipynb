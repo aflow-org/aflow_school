{
 "nbformat": 4,
 "nbformat_minor": 0,
 "metadata": {
  "kernelspec": {
   "display_name": "Python 3",
   "language": "python",
   "name": "python3"
  },
  "language_info": {
   "codemirror_mode": {
    "name": "ipython",
    "version": 3
   },
   "file_extension": ".py",
   "mimetype": "text/x-python",
   "name": "python",
   "nbconvert_exporter": "python",
   "pygments_lexer": "ipython3",
   "version": "3.7.3"
  },
  "colab": {
   "name": "1_aflow_database_aflux.ipynb",
   "provenance": [],
   "collapsed_sections": []
  }
 },
 "cells": [
  {
   "cell_type": "markdown",
   "metadata": {
    "id": "P_-YqfDoCMvm",
    "pycharm": {
     "name": "#%% md\n"
    }
   },
   "source": [
    "## AFLUX: AFLOW Search-API\n",
    "\n",
    "**Aim:** Programatically expose the same functionality as our web search interface at https://aflow.org/advanced.php\n",
    "\n",
    "- AFLUX enables search through the query string of the URL ```?<operator>``` by exposing several logical operators.\n",
    "- Operators can be inter-property and/or intra-property.\n",
    "\n",
    "### List of logical operators and AFLUX syntax\n",
    "|Logical operator |      AFLUX syntax          |        Operator             |\n",
    "| --------------  |:--------------------------:| ---------------------------:|\n",
    "| ```<block>```   |    ```(``` and ```)```     |  Intra- and inter-property  |\n",
    "| ```<AND>```     |          ```,```           |  Intra- and inter-property  |\n",
    "| ```<OR>```      |          ```:```           |  Intra- and inter-property  |\n",
    "| ```<NOT>```     |          ```!```           |       Intra-property        |\n",
    "| ```<loose>```   |          ```*```           |       Intra-property        |\n",
    "| ```<string>```  |          ```'```           |       Inter-property        |\n",
    "| ```<mute>```    |          ```$```           |       Intra-property        |\n",
    "\n",
    "- In AFLUX operators are used to create a query. In our terminology a query is comprised of a **matchbook** and **directives**.\n",
    "\n",
    "    ![](../images/AFLUX_URL.png)\n",
    "\n",
    "### Matchbook:\n",
    "- Materials keywords with arguments: ```<server>?species((Na:K),Cl),nspecies(2),Egap(1*,*5),energy_cell```.\n",
    "\n",
    "### Directives:\n",
    "- Used for formatting, moving between layers (catalog) and pagination.\n",
    "- **format** takes args ```\"json\"``` and ```\"html\"```.\n",
    "- **catalog** takes args ```\"icsd\"```, ```\"lib1\"```, ```\"lib2\"```, ...\n",
    "- **paging** controls page number, number of entries per page, and sorting. By default entries are sorted in ascending order of first materials keyword. Order can be reversed by using a negative page number.\n"
   ]
  },
  {
   "cell_type": "markdown",
   "metadata": {
    "id": "TFkBL7WqCMvn",
    "pycharm": {
     "name": "#%% md\n"
    }
   },
   "source": [
    "## AFLUX: examples"
   ]
  },
  {
   "cell_type": "markdown",
   "source": [
    "Help directives"
   ],
   "metadata": {
    "id": "lTmLKIaPsPrZ",
    "pycharm": {
     "name": "#%% md\n"
    }
   }
  },
  {
   "cell_type": "code",
   "metadata": {
    "id": "5GfbJxUcCMvn",
    "pycharm": {
     "name": "#%%\n"
    }
   },
   "source": [
    "\"\"\"\n",
    "    Help text.\n",
    "\"\"\"\n",
    "!curl 'https://aflow.org/API/aflux/?'"
   ],
   "execution_count": null,
   "outputs": []
  },
  {
   "cell_type": "code",
   "metadata": {
    "id": "ccU7f2hRCMvt",
    "pycharm": {
     "name": "#%%\n"
    }
   },
   "source": [
    "\"\"\"\n",
    "    List of matchbook keywords.\n",
    "\"\"\"\n",
    "!curl 'https://aflow.org/API/aflux/?schema,format(json)'"
   ],
   "execution_count": null,
   "outputs": []
  },
  {
   "cell_type": "markdown",
   "source": [
    "Operators \\<block\\>, \\<AND\\>, \\<OR\\>, \\<NOT\\>"
   ],
   "metadata": {
    "id": "kAnf9ezUsYcR",
    "pycharm": {
     "name": "#%% md\n"
    }
   }
  },
  {
   "cell_type": "code",
   "source": [
    "\"\"\"\n",
    "    Search compounds containing Cr and 3 total species.\n",
    "\"\"\"\n",
    "!curl 'https://aflow.org/API/aflux/?species(Cr),catalog(ICSD),nspecies(3),paging(1)'"
   ],
   "metadata": {
    "id": "5SdvQRhcr2v_",
    "pycharm": {
     "name": "#%%\n"
    }
   },
   "execution_count": null,
   "outputs": []
  },
  {
   "cell_type": "code",
   "source": [
    "\"\"\"\n",
    "    Exclude oxygen from the results.\n",
    "\"\"\"\n",
    "!curl 'https://aflow.org/API/aflux/?species(Cr,!O),catalog(ICSD),nspecies(3),paging(1)'"
   ],
   "metadata": {
    "id": "tPKN3cgKsFew",
    "pycharm": {
     "name": "#%%\n"
    }
   },
   "execution_count": null,
   "outputs": []
  },
  {
   "cell_type": "code",
   "source": [
    "\"\"\"\n",
    "    List compounds from ICSD catalog containing Cr or Mn and 3 species.\n",
    "\"\"\"\n",
    "!curl 'https://aflow.org/API/aflux/?species(Cr:Mn),catalog(ICSD),nspecies(3),paging(1)'"
   ],
   "metadata": {
    "id": "ZFYAqsdPsMi3",
    "pycharm": {
     "name": "#%%\n"
    }
   },
   "execution_count": null,
   "outputs": []
  },
  {
   "cell_type": "code",
   "source": [
    "\"\"\"\n",
    "    Retrieve compounds with 3 species from ICSD catalog containing Cr and Se, or Cr and Te and 3 species.\n",
    "\"\"\"\n",
    "!curl 'https://aflow.org/API/aflux/?species(Cr,(Se:Te)),catalog(ICSD),nspecies(3),paging(1)'"
   ],
   "metadata": {
    "id": "zA6_ad6MszfW",
    "pycharm": {
     "name": "#%%\n"
    }
   },
   "execution_count": null,
   "outputs": []
  },
  {
   "cell_type": "markdown",
   "source": [
    "Operators: \\<loose\\>"
   ],
   "metadata": {
    "id": "T6m0rAK8tOaW",
    "pycharm": {
     "name": "#%% md\n"
    }
   }
  },
  {
   "cell_type": "code",
   "source": [
    "\"\"\"\n",
    "    Retrieve the band gaps for all quaternary compounds\n",
    "\"\"\"\n",
    "!curl 'https://aflow.org/API/aflux/?Egap,nspecies(4),paging(1)'"
   ],
   "metadata": {
    "id": "aOhD4RtDtT0g",
    "pycharm": {
     "name": "#%%\n"
    }
   },
   "execution_count": null,
   "outputs": []
  },
  {
   "cell_type": "code",
   "source": [
    "\"\"\"\n",
    "    Only show non-null results\n",
    "\"\"\"\n",
    "!curl 'https://aflow.org/API/aflux/?Egap(*),nspecies(4),paging(1)'"
   ],
   "metadata": {
    "id": "WdCeXGLptg0F",
    "pycharm": {
     "name": "#%%\n"
    }
   },
   "execution_count": null,
   "outputs": []
  },
  {
   "cell_type": "code",
   "source": [
    "\"\"\"\n",
    "    Only show results where Egap is greater than or equal to 1eV\n",
    "\"\"\"\n",
    "!curl 'https://aflow.org/API/aflux/?Egap(1*),nspecies(4),paging(1)'"
   ],
   "metadata": {
    "id": "JdRORymttmVr",
    "pycharm": {
     "name": "#%%\n"
    }
   },
   "execution_count": null,
   "outputs": []
  },
  {
   "cell_type": "code",
   "source": [
    "\"\"\"\n",
    "    Only show results where Egap is greater than or equal to 1eV and less than or equal to 3eV\n",
    "\"\"\"\n",
    "!curl 'https://aflow.org/API/aflux/?Egap(1*,*3),nspecies(4),paging(1)'"
   ],
   "metadata": {
    "id": "yo34ZpobtyRn",
    "pycharm": {
     "name": "#%%\n"
    }
   },
   "execution_count": null,
   "outputs": []
  },
  {
   "cell_type": "markdown",
   "source": [
    "Operators: \\<string\\>, \\<mute\\>"
   ],
   "metadata": {
    "id": "vwfEpHSut8-6",
    "pycharm": {
     "name": "#%% md\n"
    }
   }
  },
  {
   "cell_type": "code",
   "source": [
    "\"\"\"\n",
    "    <string> can be used to search for strings that contain AFLUX operators:\n",
    "\"\"\"\n",
    "!curl \"https://aflow.org/API/aflux/?auid('aflow:5b66705058ed3b00'),paging(1)\""
   ],
   "metadata": {
    "id": "nlLf1HpSuEBW",
    "pycharm": {
     "name": "#%%\n"
    }
   },
   "execution_count": null,
   "outputs": []
  },
  {
   "cell_type": "code",
   "source": [
    "\"\"\"\n",
    "    <mute> suppresses the output of a property:\n",
    "\"\"\"\n",
    "!curl 'https://aflow.org/API/aflux/?$Egap(0),$nspecies(4),paging(1)'"
   ],
   "metadata": {
    "id": "OGEV7l_p1ud4",
    "pycharm": {
     "name": "#%%\n"
    }
   },
   "execution_count": null,
   "outputs": []
  },
  {
   "cell_type": "code",
   "source": [
    "\"\"\"\n",
    "    Default properties can be muted as well:\n",
    "\"\"\"\n",
    "!curl 'https://aflow.org/API/aflux/?$auid,$nspecies(4),paging(1)'"
   ],
   "metadata": {
    "id": "8PRtqukh2Lo4",
    "pycharm": {
     "name": "#%%\n"
    }
   },
   "execution_count": null,
   "outputs": []
  },
  {
   "cell_type": "markdown",
   "source": [
    "Directives: paging"
   ],
   "metadata": {
    "id": "g0anqyhZ2Y7B",
    "pycharm": {
     "name": "#%% md\n"
    }
   }
  },
  {
   "cell_type": "code",
   "source": [
    "\"\"\"\n",
    "    Show nth (e.g. 5th) results page (default: 64 entries/page):\n",
    "\"\"\"\n",
    "!curl 'https://aflow.org/API/aflux/?Egap(1*,*3),nspecies(4),paging(5)'"
   ],
   "metadata": {
    "id": "Wh3tsnQ-2eAE",
    "pycharm": {
     "name": "#%%\n"
    }
   },
   "execution_count": null,
   "outputs": []
  },
  {
   "cell_type": "code",
   "source": [
    "\"\"\"\n",
    "    Change page size to m (e.g. 100) entries per page:\n",
    "\"\"\"\n",
    "!curl 'https://aflow.org/API/aflux/?Egap(1*,*3),nspecies(4),paging(5,100)'"
   ],
   "metadata": {
    "id": "Rig1Z9z83Ri6",
    "pycharm": {
     "name": "#%%\n"
    }
   },
   "execution_count": null,
   "outputs": []
  },
  {
   "cell_type": "code",
   "source": [
    "\"\"\"\n",
    "    Return results as an array using the \\<mute\\> operator (default):\n",
    "\"\"\"\n",
    "!curl 'https://aflow.org/API/aflux/?Egap(1*,*3),nspecies(4),$paging(5)'"
   ],
   "metadata": {
    "id": "Ia8m9oOm3nH6",
    "pycharm": {
     "name": "#%%\n"
    }
   },
   "execution_count": null,
   "outputs": []
  },
  {
   "cell_type": "code",
   "source": [
    "\"\"\"\n",
    "    Return all results (careful - may crash the browser!):\n",
    "\"\"\"\n",
    "!curl 'https://aflow.org/API/aflux/?Egap(1*,*3),nspecies(4),paging(0)'"
   ],
   "metadata": {
    "id": "S2hocXfw4Alu",
    "pycharm": {
     "name": "#%%\n"
    }
   },
   "execution_count": null,
   "outputs": []
  },
  {
   "cell_type": "markdown",
   "source": [
    "Sorting"
   ],
   "metadata": {
    "id": "wENragE94Lhl",
    "pycharm": {
     "name": "#%% md\n"
    }
   }
  },
  {
   "cell_type": "code",
   "source": [
    "\"\"\"\n",
    "    Sort in ascending order:\n",
    "\"\"\"\n",
    "!curl 'https://aflow.org/API/aflux/?Egap(1*,*3),nspecies(4),$paging(1)'"
   ],
   "metadata": {
    "id": "Z1e5dojp4PDG",
    "pycharm": {
     "name": "#%%\n"
    }
   },
   "execution_count": null,
   "outputs": []
  },
  {
   "cell_type": "code",
   "source": [
    "\"\"\"\n",
    "    Sort in descending order (also works for n=0):\n",
    "\"\"\"\n",
    "!curl 'https://aflow.org/API/aflux/?Egap(1*,*3),nspecies(4),$paging(-1)'"
   ],
   "metadata": {
    "id": "iwha1Bop4Yg2",
    "pycharm": {
     "name": "#%%\n"
    }
   },
   "execution_count": null,
   "outputs": []
  },
  {
   "cell_type": "code",
   "source": [
    "\"\"\"\n",
    "    Results are always sorted by the first property:\n",
    "\"\"\"\n",
    "!curl 'https://aflow.org/API/aflux/?Egap(1*,*3),spin_atom,nspecies(4),$paging(1)'"
   ],
   "metadata": {
    "id": "YPydn9IU4fur",
    "pycharm": {
     "name": "#%%\n"
    }
   },
   "execution_count": null,
   "outputs": []
  },
  {
   "cell_type": "code",
   "source": [
    "\"\"\"\n",
    "    Compare with:\n",
    "\"\"\"\n",
    "!curl 'https://aflow.org/API/aflux/?spin_atom,Egap(1*,*3),nspecies(4),$paging(1)'"
   ],
   "metadata": {
    "id": "G9Gd2BOe4q7r",
    "pycharm": {
     "name": "#%%\n"
    }
   },
   "execution_count": null,
   "outputs": []
  },
  {
   "cell_type": "markdown",
   "source": [
    "Aliases"
   ],
   "metadata": {
    "id": "4tysInlf9uCf",
    "pycharm": {
     "name": "#%% md\n"
    }
   }
  },
  {
   "cell_type": "code",
   "source": [
    "\"\"\"\n",
    "    Search for metal chalcogenides:\n",
    "\"\"\"\n",
    "!curl 'https://aflow.org/API/aflux/?spacegroup_relax(216),Pearson_symbol_relax(cF8),nspecies(2),species(Chalcogens,Metals),paging(0)'"
   ],
   "metadata": {
    "id": "EJGyzooU9w_D",
    "pycharm": {
     "name": "#%%\n"
    }
   },
   "execution_count": null,
   "outputs": []
  },
  {
   "cell_type": "markdown",
   "source": [
    "Sample Python script"
   ],
   "metadata": {
    "id": "TnCuknSA-oXS",
    "pycharm": {
     "name": "#%% md\n"
    }
   }
  },
  {
   "cell_type": "code",
   "source": [
    "\"\"\"\n",
    "    Sample Python script to query AFLUX server\n",
    "\"\"\"\n",
    "#!/usr/bin/env python\n",
    "import json, sys, os\n",
    "from urllib.request import urlopen\n",
    "\n",
    "SERVER=\"https://aflow.org\"\n",
    "API=\"/API/aflux/?\"\n",
    "MATCHBOOK=\"species((Na:K),Cl),nspecies(2),Egap(2*,*5),energy_cell\"\n",
    "DIRECTIVES=\"$paging(0)\"\n",
    "SUMMONS=MATCHBOOK+\",\"+DIRECTIVES\n",
    "\n",
    "response=json.loads(urlopen(SERVER+API+SUMMONS).read().decode(\"utf-8\"))\n",
    "for datum in response:\n",
    "    bandgap=datum['Egap']\n",
    "    energycell=datum['energy_cell']  \n",
    "    print (\"{}, {}, {}\".format( datum['auid'], bandgap, energycell))"
   ],
   "metadata": {
    "id": "DzSya7MG5I2Q",
    "pycharm": {
     "name": "#%%\n"
    }
   },
   "execution_count": null,
   "outputs": []
  },
  {
   "cell_type": "markdown",
   "metadata": {
    "id": "bPV301x7CMwK",
    "pycharm": {
     "name": "#%% md\n"
    }
   },
   "source": [
    "## AFLUX: exercises\n",
    "1. From the ICSD catalog, find the VRH bulk moduli ('ael_bulk_modulus_vrh') for materials containing Ti in the AFLOW database. What is the material with the highest bulk modulus? What is the lattice type ('Bravais_lattice_relax') and space group of this material? Is it a metal or an insulator ('Egap_type')? "
   ]
  },
  {
   "cell_type": "code",
   "metadata": {
    "id": "8jzjHg0yCMwL",
    "pycharm": {
     "name": "#%%\n"
    }
   },
   "source": [
    "\"\"\"\n",
    "    Sample Python script to query AFLUX server\n",
    "\"\"\"\n",
    "#!/usr/bin/env python\n",
    "import json, sys, os\n",
    "from urllib.request import urlopen\n",
    "\n",
    "SERVER=\"https://aflow.org\"\n",
    "API=\"/API/aflux/?\"\n",
    "MATCHBOOK=\"\"\n",
    "DIRECTIVES=\"\"\n",
    "SUMMONS=MATCHBOOK+\",\"+DIRECTIVES\n",
    "\n",
    "print(SERVER+API+MATCHBOOK+SUMMONS)\n",
    "\n",
    "response=json.loads(urlopen(SERVER+API+SUMMONS).read().decode(\"utf-8\"))\n",
    "for datum in response:\n",
    "    "
   ],
   "execution_count": null,
   "outputs": []
  },
  {
   "cell_type": "markdown",
   "metadata": {
    "id": "CmTyqJAzCMwP",
    "pycharm": {
     "name": "#%% md\n"
    }
   },
   "source": [
    "2. Determine the bulk moduli of all binary materials in the AFLOW database with a transition metal and a chalcogen and a band gap between 1 eV and 3 eV. For the five compounds with the lowest bulk moduli, list the chemical formulae, space groups, bulk moduli, and band gaps."
   ]
  },
  {
   "cell_type": "code",
   "metadata": {
    "id": "jIzgkWHDCMwQ",
    "pycharm": {
     "name": "#%%\n"
    }
   },
   "source": [
    "\"\"\"\n",
    "    Sample Python script to query AFLUX server\n",
    "\"\"\"\n",
    "#!/usr/bin/env python\n",
    "import json, sys, os\n",
    "from urllib.request import urlopen\n",
    "\n",
    "SERVER=\"https://aflow.org\"\n",
    "API=\"/API/aflux/?\"\n",
    "MATCHBOOK=\"\"\n",
    "DIRECTIVES=\"\"\n",
    "SUMMONS=MATCHBOOK+\",\"+DIRECTIVES\n",
    "\n",
    "response=json.loads(urlopen(SERVER+API+SUMMONS).read().decode(\"utf-8\"))\n",
    "for datum in response:\n",
    "    "
   ],
   "execution_count": null,
   "outputs": []
  },
  {
   "cell_type": "markdown",
   "metadata": {
    "id": "c2QDyyxvCMwV",
    "pycharm": {
     "name": "#%% md\n"
    }
   },
   "source": [
    "3. Narrow the choice of transition metals down to Fe, Ni and Co. Determine the five compounds with the largest magnetic moments per atom ('spin_atom') and list their chemical formulae, space groups, bulk moduli, and magnetic moments per atom."
   ]
  },
  {
   "cell_type": "code",
   "metadata": {
    "id": "PUBRAd1xCMwW",
    "pycharm": {
     "name": "#%%\n"
    }
   },
   "source": [
    "\"\"\"\n",
    "    Sample Python script to query AFLUX server\n",
    "\"\"\"\n",
    "#!/usr/bin/env python\n",
    "import json, sys, os\n",
    "from urllib.request import urlopen\n",
    "\n",
    "SERVER=\"http://aflow.org\"\n",
    "API=\"/API/aflux/?\"\n",
    "MATCHBOOK=\"\"\n",
    "DIRECTIVES=\"\"\n",
    "SUMMONS=MATCHBOOK+\",\"+DIRECTIVES\n",
    "\n",
    "response=json.loads(urlopen(SERVER+API+SUMMONS).read().decode(\"utf-8\"))\n",
    "for datum in response:\n",
    "    "
   ],
   "execution_count": null,
   "outputs": []
  }
 ]
}