{
 "cells": [
  {
   "cell_type": "markdown",
   "metadata": {
    "id": "P_-YqfDoCMvm",
    "pycharm": {
     "name": "#%% md\n"
    }
   },
   "source": [
    "## Exercise: AFLOW Database + AFLUX\n",
    "\n",
    "**Aim:** Programmatically expose the same functionality as our web search interface at https://aflow.org/advanced.php\n",
    "\n",
    "- AFLUX enables search through the query string of the URL ```?<operator>``` by exposing several logical operators.\n",
    "- Operators can be inter-property and/or intra-property.\n",
    "\n",
    "### List of logical operators and AFLUX syntax\n",
    "|Logical operator |      AFLUX syntax          |        Operator             |\n",
    "| --------------  |:--------------------------:| ---------------------------:|\n",
    "| ```<block>```   |    ```(``` and ```)```     |  Intra- and inter-property  |\n",
    "| ```<AND>```     |          ```,```           |  Intra- and inter-property  |\n",
    "| ```<OR>```      |          ```:```           |  Intra- and inter-property  |\n",
    "| ```<NOT>```     |          ```!```           |       Intra-property        |\n",
    "| ```<loose>```   |          ```*```           |       Intra-property        |\n",
    "| ```<string>```  |          ```'```           |       Inter-property        |\n",
    "| ```<mute>```    |          ```$```           |       Intra-property        |\n",
    "\n",
    "- In AFLUX operators are used to create a query. In our terminology a query is comprised of a **matchbook** and **directives**.\n",
    "\n",
    "    ![](../images/AFLUX_URL.png)\n",
    "\n",
    "### Matchbook:\n",
    "- Materials keywords with arguments: ```<server>?species((Na:K),Cl),nspecies(2),Egap(1*,*5),energy_cell```.\n",
    "\n",
    "### Directives:\n",
    "- Used for formatting, moving between layers (catalog) and pagination.\n",
    "- **format** takes args ```\"json\"``` and ```\"html\"```.\n",
    "- **catalog** takes args ```\"icsd\"```, ```\"lib1\"```, ```\"lib2\"```, ...\n",
    "- **paging** controls page number, number of entries per page, and sorting. By default entries are sorted in ascending order of first materials keyword. Order can be reversed by using a negative page number.\n"
   ]
  },
  {
   "cell_type": "markdown",
   "metadata": {
    "id": "TFkBL7WqCMvn",
    "pycharm": {
     "name": "#%% md\n"
    }
   },
   "source": [
    "## Python helper function\n",
    "The following code block enables the quick interaction with AFLUX using python."
   ]
  },
  {
   "cell_type": "code",
   "execution_count": null,
   "metadata": {
    "id": "DzSya7MG5I2Q",
    "pycharm": {
     "name": "#%%\n"
    }
   },
   "outputs": [],
   "source": [
    "import json\n",
    "from json import JSONDecodeError\n",
    "from urllib.request import urlopen\n",
    "\n",
    "SERVER=\"https://aflow.org\"\n",
    "API=\"/API/aflux/?\"\n",
    "\n",
    "# Download a AFLUX response and return it as list of dictionaries\n",
    "def aflux_request(matchbook, paging=1, no_directives=False):\n",
    "    request_url = SERVER + API + matchbook\n",
    "    if not no_directives:\n",
    "        request_url += f\",$paging({paging}),format(json)\"\n",
    "    server_response = urlopen(request_url)\n",
    "    response_content  = server_response.read().decode(\"utf-8\")\n",
    "    # Basic error handling\n",
    "    if server_response.getcode() == 200:\n",
    "        try:\n",
    "            return json.loads(response_content)\n",
    "        except JSONDecodeError:\n",
    "            pass\n",
    "    print(\"AFLUX request failed!\")\n",
    "    print(f\"  URL: {request_url}\")\n",
    "    print(f\"  Response: {response_content}\")\n",
    "    return []\n",
    "\n",
    "# Print the build in help of AFLUX\n",
    "def aflux_help(keyword=None):\n",
    "    if keyword is None:\n",
    "        # General help (https://aflow.org/API/aflux/?)\n",
    "        help_data = aflux_request(\"\", no_directives=True)\n",
    "        print(\"\\n\".join(help_data))\n",
    "    else:\n",
    "        # Help regarding a specific keyword (https://aflow.org/API/aflux/?help(keyword))\n",
    "        help_data = aflux_request(f\"help({keyword})\")\n",
    "        for key, entry in help_data.items():\n",
    "            print(key)\n",
    "            print(f\"  description: {entry['description']}\")\n",
    "            print(f\"  units: {entry['units']}\")\n",
    "            print(f\"  status: {entry['status']}\")\n",
    "            comment = \"\\n    \".join(entry[\"__comment__\"]).strip()\n",
    "            if comment:\n",
    "                print(f\"  comment:\\n    {comment}\")"
   ]
  },
  {
   "cell_type": "markdown",
   "metadata": {
    "pycharm": {
     "name": "#%% md\n"
    }
   },
   "source": [
    "### 1. Getting help\n",
    "Print the help for `Egap` and `energy_cell`."
   ]
  },
  {
   "cell_type": "code",
   "execution_count": null,
   "metadata": {
    "pycharm": {
     "name": "#%%\n"
    }
   },
   "outputs": [],
   "source": [
    "# use the aflux_help function"
   ]
  },
  {
   "cell_type": "markdown",
   "metadata": {
    "pycharm": {
     "name": "#%% md\n"
    }
   },
   "source": [
    "### 2. Collect multiple parameter at once\n",
    "Collect the values of the band gaps (`Egap`) and the energies per cell (`energy_cell`) for all entries in the _ICSD_ collection. Can you limit the results to entries with a band gap between 0.01 and 10.0?"
   ]
  },
  {
   "cell_type": "code",
   "execution_count": null,
   "metadata": {
    "pycharm": {
     "name": "#%%\n"
    }
   },
   "outputs": [],
   "source": [
    "data_gap = aflux_request(\"\", 0)"
   ]
  },
  {
   "cell_type": "markdown",
   "metadata": {
    "pycharm": {
     "name": "#%% md\n"
    }
   },
   "source": [
    "It can be helpful to save the data received from AFLUX while testing. A easy way to do so is to save them as `.json` file."
   ]
  },
  {
   "cell_type": "code",
   "execution_count": null,
   "metadata": {
    "pycharm": {
     "name": "#%%\n"
    }
   },
   "outputs": [],
   "source": [
    "from pathlib import Path\n",
    "out_path = Path(\"aflux_save.json\")\n",
    "out_path.write_text(json.dumps(data_gap, indent=4));\n",
    "# loading the data later:\n",
    "# data_gap = json.loads(out_path.read_text())"
   ]
  },
  {
   "cell_type": "code",
   "execution_count": null,
   "metadata": {
    "pycharm": {
     "name": "#%%\n"
    }
   },
   "outputs": [],
   "source": [
    "#Content of the saved file\n",
    "!head -n 20 aflux_save.json"
   ]
  },
  {
   "cell_type": "markdown",
   "metadata": {
    "pycharm": {
     "name": "#%% md\n"
    }
   },
   "source": [
    "To visualize the distribution of band gaps we can use matplotlib"
   ]
  },
  {
   "cell_type": "code",
   "execution_count": null,
   "metadata": {
    "pycharm": {
     "name": "#%%\n"
    }
   },
   "outputs": [],
   "source": [
    "from matplotlib import pyplot as plt"
   ]
  },
  {
   "cell_type": "code",
   "execution_count": null,
   "metadata": {
    "pycharm": {
     "name": "#%%\n"
    }
   },
   "outputs": [],
   "source": [
    "# create a flat array of all Egap data points\n",
    "egap_collection = []\n",
    "\n",
    "plt.hist(egap_collection, bins=21)\n",
    "plt.xlabel(\"electronic band gap [eV]\")\n",
    "plt.ylabel(\"entry count\")\n",
    "plt.show()"
   ]
  },
  {
   "cell_type": "markdown",
   "metadata": {
    "pycharm": {
     "name": "#%% md\n"
    }
   },
   "source": [
    "### 3. Visualization\n",
    "Now visualize the total ab initio energy per cell in the same way."
   ]
  },
  {
   "cell_type": "code",
   "execution_count": null,
   "metadata": {
    "pycharm": {
     "name": "#%%\n"
    }
   },
   "outputs": [],
   "source": [
    "energy_cell_collection = []\n",
    "plt.hist(energy_cell_collection, bins=21)\n",
    "plt.xlabel(\"\")\n",
    "plt.ylabel(\"\")\n",
    "plt.show()"
   ]
  },
  {
   "cell_type": "markdown",
   "metadata": {
    "pycharm": {
     "name": "#%% md\n"
    }
   },
   "source": [
    "### 4. Data manipulation\n",
    "Often the data gathered from AFLUX needs to be processed to be useful for a certain task. If we want for example to check if the calculations in the AFLOW database relaxed as expected we can check the maximal stress tensor `stress_tensor` for all entries in the _ICSD_ catalog.\n",
    "\n",
    "First check the help for `stress_tensor` and then load the data."
   ]
  },
  {
   "cell_type": "code",
   "execution_count": null,
   "metadata": {
    "pycharm": {
     "name": "#%%\n"
    }
   },
   "outputs": [],
   "source": [
    "aflux_help()"
   ]
  },
  {
   "cell_type": "code",
   "execution_count": null,
   "metadata": {
    "pycharm": {
     "name": "#%%\n"
    }
   },
   "outputs": [],
   "source": [
    "data_stress = aflux_request(\"\",0)"
   ]
  },
  {
   "cell_type": "markdown",
   "metadata": {
    "pycharm": {
     "name": "#%% md\n"
    }
   },
   "source": [
    "In contrast to before we now need to process the values stored in the entries in a loop. (the maximum stress tensor needs to cover both the positive and negative space)"
   ]
  },
  {
   "cell_type": "code",
   "execution_count": null,
   "metadata": {
    "pycharm": {
     "name": "#%%\n"
    }
   },
   "outputs": [],
   "source": [
    "stress_collection = []\n",
    "for entry in data_stress:\n",
    "    stress_collection.append()\n",
    "plt.hist(stress_collection, bins=21)\n",
    "plt.xlabel(\"\")\n",
    "plt.ylabel(\"\")\n",
    "plt.show()"
   ]
  }
 ],
 "metadata": {
  "colab": {
   "collapsed_sections": [],
   "name": "1_aflow_database_aflux.ipynb",
   "provenance": []
  },
  "kernelspec": {
   "display_name": "Python 3 (ipykernel)",
   "language": "python",
   "name": "python3"
  },
  "language_info": {
   "codemirror_mode": {
    "name": "ipython",
    "version": 3
   },
   "file_extension": ".py",
   "mimetype": "text/x-python",
   "name": "python",
   "nbconvert_exporter": "python",
   "pygments_lexer": "ipython3",
   "version": "3.10.6"
  }
 },
 "nbformat": 4,
 "nbformat_minor": 1
}