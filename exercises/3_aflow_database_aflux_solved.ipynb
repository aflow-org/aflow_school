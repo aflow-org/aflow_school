{
 "nbformat": 4,
 "nbformat_minor": 0,
 "metadata": {
  "kernelspec": {
   "display_name": "Python 3",
   "language": "python",
   "name": "python3"
  },
  "language_info": {
   "codemirror_mode": {
    "name": "ipython",
    "version": 3
   },
   "file_extension": ".py",
   "mimetype": "text/x-python",
   "name": "python",
   "nbconvert_exporter": "python",
   "pygments_lexer": "ipython3",
   "version": "3.7.3"
  },
  "colab": {
   "name": "1_aflow_database_aflux.ipynb",
   "provenance": [],
   "collapsed_sections": []
  }
 },
 "cells": [
  {
   "cell_type": "markdown",
   "metadata": {
    "id": "P_-YqfDoCMvm",
    "pycharm": {
     "name": "#%% md\n"
    }
   },
   "source": [
    "## Exercise: AFLOW Database + AFLUX\n",
    "\n",
    "**Aim:** Programmatically expose the same functionality as our web search interface at https://aflow.org/advanced.php\n",
    "\n",
    "- AFLUX enables search through the query string of the URL ```?<operator>``` by exposing several logical operators.\n",
    "- Operators can be inter-property and/or intra-property.\n",
    "\n",
    "### List of logical operators and AFLUX syntax\n",
    "|Logical operator |      AFLUX syntax          |        Operator             |\n",
    "| --------------  |:--------------------------:| ---------------------------:|\n",
    "| ```<block>```   |    ```(``` and ```)```     |  Intra- and inter-property  |\n",
    "| ```<AND>```     |          ```,```           |  Intra- and inter-property  |\n",
    "| ```<OR>```      |          ```:```           |  Intra- and inter-property  |\n",
    "| ```<NOT>```     |          ```!```           |       Intra-property        |\n",
    "| ```<loose>```   |          ```*```           |       Intra-property        |\n",
    "| ```<string>```  |          ```'```           |       Inter-property        |\n",
    "| ```<mute>```    |          ```$```           |       Intra-property        |\n",
    "\n",
    "- In AFLUX operators are used to create a query. In our terminology a query is comprised of a **matchbook** and **directives**.\n",
    "\n",
    "    ![](../images/AFLUX_URL.png)\n",
    "\n",
    "### Matchbook:\n",
    "- Materials keywords with arguments: ```<server>?species((Na:K),Cl),nspecies(2),Egap(1*,*5),energy_cell```.\n",
    "\n",
    "### Directives:\n",
    "- Used for formatting, moving between layers (catalog) and pagination.\n",
    "- **format** takes args ```\"json\"``` and ```\"html\"```.\n",
    "- **catalog** takes args ```\"icsd\"```, ```\"lib1\"```, ```\"lib2\"```, ...\n",
    "- **paging** controls page number, number of entries per page, and sorting. By default entries are sorted in ascending order of first materials keyword. Order can be reversed by using a negative page number.\n"
   ]
  },
  {
   "cell_type": "markdown",
   "metadata": {
    "id": "TFkBL7WqCMvn",
    "pycharm": {
     "name": "#%% md\n"
    }
   },
   "source": [
    "## Python helper function\n",
    "The following code block enables the quick interaction with AFLUX using python."
   ]
  },
  {
   "cell_type": "code",
   "source": [
    "import json\n",
    "from json import JSONDecodeError\n",
    "from urllib.request import urlopen\n",
    "\n",
    "SERVER=\"https://aflow.org\"\n",
    "API=\"/API/aflux/?\"\n",
    "\n",
    "# Download a AFLUX response and return it as list of dictionaries\n",
    "def aflux_request(matchbook, paging=1, no_directives=False):\n",
    "    request_url = SERVER + API + matchbook\n",
    "    if not no_directives:\n",
    "        request_url += f\",$paging({paging}),format(json)\"\n",
    "    server_response = urlopen(request_url)\n",
    "    response_content  = server_response.read().decode(\"utf-8\")\n",
    "    # Basic error handling\n",
    "    if server_response.getcode() == 200:\n",
    "        try:\n",
    "            return json.loads(response_content)\n",
    "        except JSONDecodeError:\n",
    "            pass\n",
    "    print(\"AFLUX request failed!\")\n",
    "    print(f\"  URL: {request_url}\")\n",
    "    print(f\"  Response: {response_content}\")\n",
    "    return []\n",
    "\n",
    "# Print the build in help of AFLUX\n",
    "def aflux_help(keyword=None):\n",
    "    if keyword is None:\n",
    "        # General help (https://aflow.org/API/aflux/?)\n",
    "        help_data = aflux_request(\"\", no_directives=True)\n",
    "        print(\"\\n\".join(help_data))\n",
    "    else:\n",
    "        # Help regarding a specific keyword (https://aflow.org/API/aflux/?help(keyword))\n",
    "        help_data = aflux_request(f\"help({keyword})\")\n",
    "        for key, entry in help_data.items():\n",
    "            print(key)\n",
    "            print(f\"  description: {entry['description']}\")\n",
    "            print(f\"  units: {entry['units']}\")\n",
    "            print(f\"  status: {entry['status']}\")\n",
    "            comment = \"\\n    \".join(entry[\"__comment__\"]).strip()\n",
    "            if comment:\n",
    "                print(f\"  comment:\\n    {comment}\")"
   ],
   "metadata": {
    "id": "DzSya7MG5I2Q",
    "pycharm": {
     "name": "#%%\n"
    }
   },
   "execution_count": 84,
   "outputs": []
  },
  {
   "cell_type": "markdown",
   "source": [
    "### 1. Getting help\n",
    "Print the help for `Egap` and `energy_cell`."
   ],
   "metadata": {
    "collapsed": false,
    "pycharm": {
     "name": "#%% md\n"
    }
   }
  },
  {
   "cell_type": "code",
   "execution_count": 87,
   "outputs": [
    {
     "name": "stdout",
     "output_type": "stream",
     "text": [
      "Egap\n",
      "  description: Returns the electronic band gap.\n",
      "  units: eV\n",
      "  status: production\n",
      "energy_cell\n",
      "  description: Returns the total ab initio energy per cell.\n",
      "  units: eV/cell\n",
      "  status: production\n"
     ]
    }
   ],
   "source": [
    "# use the aflux_help function\n",
    "aflux_help(\"Egap,energy_cell\")"
   ],
   "metadata": {
    "collapsed": false,
    "pycharm": {
     "name": "#%%\n"
    }
   }
  },
  {
   "cell_type": "markdown",
   "source": [
    "### 2. Collect multiple parameter at once\n",
    "Collect the values of the band gaps (`Egap`) and the energies per cell (`energy_cell`) for all entries in the _ICSD_ collection. Can you limit the results to entries with a band gap between 0.01 and 10.0?"
   ],
   "metadata": {
    "collapsed": false,
    "pycharm": {
     "name": "#%% md\n"
    }
   }
  },
  {
   "cell_type": "code",
   "execution_count": 59,
   "outputs": [],
   "source": [
    "data_gap = aflux_request(\"catalog(icsd),Egap(0.01*,*10.0),energy_cell\", 0)"
   ],
   "metadata": {
    "collapsed": false,
    "pycharm": {
     "name": "#%%\n"
    }
   }
  },
  {
   "cell_type": "markdown",
   "source": [
    "It can be helpful to save the data received from AFLUX while testing. A easy way to do so is to save them as `.json` file."
   ],
   "metadata": {
    "collapsed": false,
    "pycharm": {
     "name": "#%% md\n"
    }
   }
  },
  {
   "cell_type": "code",
   "execution_count": 86,
   "outputs": [],
   "source": [
    "from pathlib import Path\n",
    "out_path = Path(\"aflux_save.json\")\n",
    "out_path.write_text(json.dumps(data_gap, indent=4));\n",
    "# loading the data later:\n",
    "# data_gap = json.loads(out_path.read_text())"
   ],
   "metadata": {
    "collapsed": false,
    "pycharm": {
     "name": "#%%\n"
    }
   }
  },
  {
   "cell_type": "code",
   "execution_count": 65,
   "outputs": [
    {
     "name": "stdout",
     "output_type": "stream",
     "text": [
      "[\r\n",
      "    {\r\n",
      "        \"compound\": \"Cl4Pd2\",\r\n",
      "        \"auid\": \"aflow:00ee65a6b4396cc9\",\r\n",
      "        \"aurl\": \"aflowlib.duke.edu:AFLOWDATA/ICSD_WEB/ORC/Cl2Pd1_ICSD_421215\",\r\n",
      "        \"spacegroup_relax\": 58,\r\n",
      "        \"Pearson_symbol_relax\": \"oP6\",\r\n",
      "        \"catalog\": \"ICSD\",\r\n",
      "        \"Egap\": 1.6249,\r\n",
      "        \"energy_cell\": -16.3468\r\n",
      "    },\r\n",
      "    {\r\n",
      "        \"compound\": \"Ce1O2\",\r\n",
      "        \"auid\": \"aflow:004bf05300aebbf8\",\r\n",
      "        \"aurl\": \"aflowlib.duke.edu:AFLOWDATA/ICSD_WEB/FCC/Ce1O2_ICSD_180955\",\r\n",
      "        \"spacegroup_relax\": 225,\r\n",
      "        \"Pearson_symbol_relax\": \"cF12\",\r\n",
      "        \"catalog\": \"ICSD\",\r\n",
      "        \"Egap\": 2.4252,\r\n",
      "        \"energy_cell\": -24.0454\r\n"
     ]
    }
   ],
   "source": [
    "#Content of the saved file\n",
    "!head -n 20 aflux_save.json"
   ],
   "metadata": {
    "collapsed": false,
    "pycharm": {
     "name": "#%%\n"
    }
   }
  },
  {
   "cell_type": "markdown",
   "source": [
    "To visualize the distribution of band gaps we can use matplotlib"
   ],
   "metadata": {
    "collapsed": false,
    "pycharm": {
     "name": "#%% md\n"
    }
   }
  },
  {
   "cell_type": "code",
   "execution_count": null,
   "outputs": [],
   "source": [
    "from matplotlib import pyplot as plt"
   ],
   "metadata": {
    "collapsed": false,
    "pycharm": {
     "name": "#%%\n"
    }
   }
  },
  {
   "cell_type": "code",
   "execution_count": 50,
   "outputs": [
    {
     "data": {
      "text/plain": "<Figure size 640x480 with 1 Axes>",
      "image/png": "[encoded data removed]"
     },
     "metadata": {},
     "output_type": "display_data"
    }
   ],
   "source": [
    "# create a flat array of all Egap data points\n",
    "egap_collection = [entry[\"Egap\"] for entry in data_gap]\n",
    "plt.hist(egap_collection, bins=21)\n",
    "plt.xlabel(\"electronic band gap [eV]\")\n",
    "plt.ylabel(\"entry count\")\n",
    "plt.show()"
   ],
   "metadata": {
    "collapsed": false,
    "pycharm": {
     "name": "#%%\n"
    }
   }
  },
  {
   "cell_type": "markdown",
   "source": [
    "### 3. Visualization\n",
    "Now visualize the total ab initio energy per cell in the same way."
   ],
   "metadata": {
    "collapsed": false,
    "pycharm": {
     "name": "#%% md\n"
    }
   }
  },
  {
   "cell_type": "code",
   "execution_count": 53,
   "outputs": [
    {
     "data": {
      "text/plain": "<Figure size 640x480 with 1 Axes>",
      "image/png": "[encoded data removed]"
     },
     "metadata": {},
     "output_type": "display_data"
    }
   ],
   "source": [
    "energy_cell_collection = [entry[\"energy_cell\"] for entry in data_gap]\n",
    "plt.hist(energy_cell_collection, bins=21)\n",
    "plt.xlabel(\"ab initio energy [eV/cell]\")\n",
    "plt.ylabel(\"entry count\")\n",
    "plt.show()"
   ],
   "metadata": {
    "collapsed": false,
    "pycharm": {
     "name": "#%%\n"
    }
   }
  },
  {
   "cell_type": "markdown",
   "source": [
    "### 4. Data manipulation\n",
    "Often the data gathered from AFLUX needs to be processed to be useful for a certain task. If we want for example to check if the calculations in the AFLOW database relaxed as expected we can check the maximal stress tensor `stress_tensor` for all entries in the _ICSD_ catalog.\n",
    "\n",
    "First check the help for `stress_tensor` and then load the data."
   ],
   "metadata": {
    "collapsed": false,
    "pycharm": {
     "name": "#%% md\n"
    }
   }
  },
  {
   "cell_type": "code",
   "execution_count": 88,
   "outputs": [
    {
     "name": "stdout",
     "output_type": "stream",
     "text": [
      "stress_tensor\n",
      "  description: Returns the stress tensor for the relaxed structure.\n",
      "  units: kbar\n",
      "  status: production\n"
     ]
    }
   ],
   "source": [
    "aflux_help('stress_tensor')"
   ],
   "metadata": {
    "collapsed": false,
    "pycharm": {
     "name": "#%%\n"
    }
   }
  },
  {
   "cell_type": "code",
   "execution_count": 56,
   "outputs": [],
   "source": [
    "data_stress = aflux_request(\"stress_tensor,catalog(icsd)\",0)"
   ],
   "metadata": {
    "collapsed": false,
    "pycharm": {
     "name": "#%%\n"
    }
   }
  },
  {
   "cell_type": "markdown",
   "source": [
    "In contrast to before we now need to process the values stored in the entries in a loop. (the maximum stress tensor needs to cover both the positive and negative space)"
   ],
   "metadata": {
    "collapsed": false,
    "pycharm": {
     "name": "#%% md\n"
    }
   }
  },
  {
   "cell_type": "code",
   "execution_count": null,
   "outputs": [],
   "source": [
    "stress_collection = []\n",
    "for entry in data_stress:\n",
    "    stress_max = max(entry[\"stress_tensor\"])\n",
    "    stress_min = min(entry[\"stress_tensor\"])\n",
    "    if (stress_max>abs(stress_min)):\n",
    "        stress_collection.append(stress_max)\n",
    "    else:\n",
    "        stress_collection.append(stress_min)\n",
    "plt.hist(stress_collection, bins=21)\n",
    "plt.xlabel(\"max stress tensor [kB]\")\n",
    "plt.ylabel(\"entry count\")\n",
    "plt.show()"
   ],
   "metadata": {
    "collapsed": false,
    "pycharm": {
     "name": "#%%\n"
    }
   }
  }
 ]
}