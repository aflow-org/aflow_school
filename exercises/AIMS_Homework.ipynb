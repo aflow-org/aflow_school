{
 "cells": [
  {
   "cell_type": "markdown",
   "id": "f368b648-5965-4fbe-9f4a-c98522705800",
   "metadata": {},
   "source": [
    "# ME555 – Applications in Data and Materials Science\n",
    "## Module - Homework\n",
    "\n",
    "- Name: \n",
    "- NetID:\n",
    "\n",
    "__Note__: After you filled out this notebook, go to `File` > `Save and Export Notebook As ...` > `PDF`  to save your results as PDF. Also save the notebook itself with `File` > `Download`. Rename both files to `Name_Firstname.pdf` and `Name_Firstname.ipynb` and send them per email to: [hagen.eckert@duke.edu](mailto:hagen.eckert@duke.edu)."
   ]
  },
  {
   "cell_type": "code",
   "execution_count": null,
   "id": "7daa451e-ef85-42bf-8204-0ee6f66e949f",
   "metadata": {
    "tags": []
   },
   "outputs": [],
   "source": [
    "# Initialize imports and helper functions\n",
    "from pathlib import Path\n",
    "import json\n",
    "from json import JSONDecodeError\n",
    "from urllib.request import urlopen\n",
    "from matplotlib import pyplot as plt\n",
    "\n",
    "SERVER=\"https://aflow.org\"\n",
    "API=\"/API/aflux/?\"\n",
    "\n",
    "# Download a AFLUX response and return it as list of dictionaries\n",
    "def aflux_request(matchbook, paging=1, no_directives=False):\n",
    "    request_url = SERVER + API + matchbook\n",
    "    if not no_directives:\n",
    "        request_url += f\",$paging({paging}),format(json)\"\n",
    "    server_response = urlopen(request_url)\n",
    "    response_content  = server_response.read().decode(\"utf-8\")\n",
    "    # Basic error handling\n",
    "    if server_response.getcode() == 200:\n",
    "        try:\n",
    "            return json.loads(response_content)\n",
    "        except JSONDecodeError:\n",
    "            pass\n",
    "    print(\"AFLUX request failed!\")\n",
    "    print(f\"  URL: {request_url}\")\n",
    "    print(f\"  Response: {response_content}\")\n",
    "    return []\n",
    "\n",
    "# Get CONTCAR file\n",
    "def aflux_get_contcar(entry):\n",
    "    request_url = \"http://\" + entry['aurl'].replace(':', '/') + '/' + 'CONTCAR.relax'\n",
    "    server_response = urlopen(request_url)\n",
    "    response_content  = server_response.read().decode(\"utf-8\")\n",
    "    if server_response.getcode() == 200:\n",
    "        # Fix POSTCAR if in VASP4 format\n",
    "        poscar_lines = response_content.split('\\n')\n",
    "        # Add species names if missing\n",
    "        if poscar_lines[5].strip()[0].isnumeric:\n",
    "            poscar_lines.insert(5, \" \".join(entry['species']))\n",
    "        poscar = '\\n'.join(poscar_lines)\n",
    "        return poscar\n",
    "    print(\"AFLUX request failed!\")\n",
    "    print(f\"  URL: {request_url}\")\n",
    "    print(f\"  Response: {response_content}\")\n",
    "    return None\n",
    "\n",
    "# Print the build in help of AFLUX\n",
    "def aflux_help(keyword=None):\n",
    "    if keyword is None:\n",
    "        # General help (https://aflow.org/API/aflux/?)\n",
    "        help_data = aflux_request(\"\", no_directives=True)\n",
    "        print(\"\\n\".join(help_data))\n",
    "    else:\n",
    "        # Help regarding a specific keyword (https://aflow.org/API/aflux/?help(keyword))\n",
    "        help_data = aflux_request(f\"help({keyword})\")\n",
    "        for key, entry in help_data.items():\n",
    "            print(key)\n",
    "            print(f\"  description: {entry['description']}\")\n",
    "            print(f\"  units: {entry['units']}\")\n",
    "            print(f\"  status: {entry['status']}\")\n",
    "            comment = \"\\n    \".join(entry[\"__comment__\"]).strip()\n",
    "            if comment:\n",
    "                print(f\"  comment:\\n    {comment}\")\n",
    "\n",
    "# Preload ML prediction results dictonary auid:ml_ael_bulk_modulus_vrh\n",
    "prediction_data = json.loads(Path('prediction.json').read_text())"
   ]
  },
  {
   "cell_type": "markdown",
   "id": "2de03c92-52c7-4bfe-a067-ad9b583736e9",
   "metadata": {},
   "source": [
    "#### 1. Use AFLUX to retrieve all binary (two species) materials with a transition metal and a chalcogen.\n",
    "   \n",
    "a) How many of these compounds are metallic (`Egap_type = metal`)?   "
   ]
  },
  {
   "cell_type": "code",
   "execution_count": null,
   "id": "82a8a4ea-3c8f-42ef-a234-15dd46e243e0",
   "metadata": {
    "tags": []
   },
   "outputs": [],
   "source": []
  },
  {
   "cell_type": "markdown",
   "id": "54c09606-f92e-4d5c-9c6a-f70f3981bddd",
   "metadata": {},
   "source": [
    "b) Determine the bulk moduli (`ael_bulk_modulus_vrh`) of all transition metal chalcogenides with a band gap between 1 eV and 3 eV. For the five compounds with the highest bulk moduli, list the chemical formulas, space groups, bulk moduli, and band gaps."
   ]
  },
  {
   "cell_type": "code",
   "execution_count": null,
   "id": "b9c05790-8ccd-468b-9604-1f68b427b29f",
   "metadata": {
    "tags": []
   },
   "outputs": [],
   "source": []
  },
  {
   "cell_type": "markdown",
   "id": "e2e2670c-3711-41e8-9698-36d0a9740b6e",
   "metadata": {},
   "source": [
    "c) Sort the transition metal chalcogenides by their magnetic moment (`spin_atom`) and determine the five compounds with the largest moments. List their chemical formulas, space groups, and magnetic moments."
   ]
  },
  {
   "cell_type": "code",
   "execution_count": null,
   "id": "5d667058-a72f-40bf-859d-2c0ee35b86e7",
   "metadata": {
    "tags": []
   },
   "outputs": [],
   "source": []
  },
  {
   "cell_type": "markdown",
   "id": "a4e5ea54-d401-4ffc-98cb-cddc73a3c89e",
   "metadata": {},
   "source": [
    "d) Narrow the choice of transition metals down to `Fe`, `Ni`, and `Co`. Determine the five compounds with the largest magnetic moments and list their chemical formulas, space groups, and magnetic moments."
   ]
  },
  {
   "cell_type": "code",
   "execution_count": null,
   "id": "15e2e66f-eeba-48c3-9616-36e6ba96603c",
   "metadata": {
    "tags": []
   },
   "outputs": [],
   "source": []
  },
  {
   "cell_type": "markdown",
   "id": "02a3fac4-f8b0-4cbb-95b5-864687842424",
   "metadata": {},
   "source": [
    "#### 2. AFLOW ML \n",
    "a) Determine the five highest/lowest bulk moduli (`ael_bulk_modulus_vrh`) of all compounds that contain Be. Already include the band gap (`Egap`) in your request."
   ]
  },
  {
   "cell_type": "code",
   "execution_count": null,
   "id": "c056ba9b-8c82-4db7-a464-922a9ea11651",
   "metadata": {
    "tags": []
   },
   "outputs": [],
   "source": []
  },
  {
   "cell_type": "markdown",
   "id": "77961ce1-b2e8-4d3f-a7d1-d4f051ceaa6c",
   "metadata": {},
   "source": [
    "b) Compare the bulk moduli and band gaps (`Egap`) of the best and worst compounds with results obtained from the PLMF machine learning model. To do this get the CONTCAR form AFLUX (`s`) and submit it to the [AFLOW ML tool](https://aflow.org/aflow-ml/)."
   ]
  },
  {
   "cell_type": "code",
   "execution_count": null,
   "id": "17666e57-87a2-4aaa-ac7d-3071acac24e2",
   "metadata": {},
   "outputs": [],
   "source": []
  },
  {
   "cell_type": "markdown",
   "id": "9b984417-af93-463c-b58c-52a21155dad6",
   "metadata": {},
   "source": [
    "- best system: \n",
    "  - Egap: \n",
    "  - ML Egap:\n",
    "  - ael_bulk_modulus_vrh:\n",
    "  - ML ael_bulk_modulus_vrh:\n",
    "- worst system:\n",
    "  - Egap: \n",
    "  - ML Egap:\n",
    "  - ael_bulk_modulus_vrh:\n",
    "  - ML ael_bulk_modulus_vrh:"
   ]
  },
  {
   "cell_type": "markdown",
   "id": "2e37eda0-9a36-4fad-86c7-ada845d7299b",
   "metadata": {},
   "source": [
    "#### 3. Use AFLUX to determine the total number of entries available for the Mo-Ti binary alloy system.\n",
    "\n",
    "a) Find the formation enthalpies (`enthalpy_formation_atom`) for all entries with the 50:50 composition (`stoichiometry(‘0.5,0.5’)`) and use the bulk moduli results of the PLMF machine learning model stored in `prediction_data` to plot their distribution as a histogram."
   ]
  },
  {
   "cell_type": "code",
   "execution_count": null,
   "id": "c936b13b-23ae-45a9-bfdc-f28ba6b7f119",
   "metadata": {},
   "outputs": [],
   "source": []
  },
  {
   "cell_type": "markdown",
   "id": "c1a6be00-37ee-4da6-9a62-0fd7bc084776",
   "metadata": {},
   "source": [
    "b) Make a plot of the formation enthalpies versus the bulk moduli for the 50:50 composition. What is the relationship (if any) between the two quantities?"
   ]
  },
  {
   "cell_type": "code",
   "execution_count": null,
   "id": "b86eb6b1-1bee-454d-9239-0c9100057847",
   "metadata": {},
   "outputs": [],
   "source": []
  }
 ],
 "metadata": {
  "kernelspec": {
   "display_name": "Python 3 (ipykernel)",
   "language": "python",
   "name": "python3"
  },
  "language_info": {
   "codemirror_mode": {
    "name": "ipython",
    "version": 3
   },
   "file_extension": ".py",
   "mimetype": "text/x-python",
   "name": "python",
   "nbconvert_exporter": "python",
   "pygments_lexer": "ipython3",
   "version": "3.10.6"
  }
 },
 "nbformat": 4,
 "nbformat_minor": 5
}
